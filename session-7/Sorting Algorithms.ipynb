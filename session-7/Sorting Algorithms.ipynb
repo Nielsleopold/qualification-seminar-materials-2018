{
 "cells": [
  {
   "cell_type": "markdown",
   "metadata": {
    "slideshow": {
     "slide_type": "slide"
    }
   },
   "source": [
    "# Exercise - What is that?\n",
    "\n",
    "Copy and paste the following program into a file called `mysterious.py`.\n",
    "\n",
    "After typing it in, examine it's behaviour by step-wise execution in the debugger in Visual Studio Code. For that, set a breakpoint on line 2."
   ]
  },
  {
   "cell_type": "code",
   "execution_count": null,
   "metadata": {
    "slideshow": {
     "slide_type": "-"
    }
   },
   "outputs": [],
   "source": [
    "def mysterious_function(data_list):\n",
    "    for passnum in range(len(data_list) - 1, 0, -1):\n",
    "        for idx in range(passnum):\n",
    "            if data_list[idx] > data_list[idx + 1]:\n",
    "                temp = data_list[idx]\n",
    "                data_list[idx] = data_list[idx + 1]\n",
    "                data_list[idx + 1] = temp\n",
    "\n",
    "\n",
    "if __name__ == '__main__':\n",
    "    data = [54, 26, 93, 17, 77, 31, 44, 55, 20]\n",
    "    mysterious_function(data)\n",
    "    print(data)\n"
   ]
  },
  {
   "cell_type": "markdown",
   "metadata": {
    "slideshow": {
     "slide_type": "subslide"
    }
   },
   "source": [
    "Discuss with your neighbour:\n",
    "\n",
    "  * What does the program above do?\n",
    "  * What happens, when you run the function with the following input?\n",
    "  ```python\n",
    "  data = ['H', 'e', 'l', 'l', 'o', ' ', 'W', 'o', 'r', 'l', 'd', '!']\n",
    "  mysterious_function(data)\n",
    "```\n",
    "  * Why can one compare something like `'a' < 'B'`? How does that likely work?"
   ]
  },
  {
   "cell_type": "markdown",
   "metadata": {
    "slideshow": {
     "slide_type": "fragment"
    }
   },
   "source": [
    "For a computer everything are just numbers. Even letters and text are just numbers.\n",
    "\n",
    "Try it with the following code. The `ord` function returns you the number code for a char. Vice-versa, the `chr` function returns the character for the corresponding number code."
   ]
  },
  {
   "cell_type": "code",
   "execution_count": null,
   "metadata": {},
   "outputs": [],
   "source": [
    "data = ['H', 'e', 'l', 'l', 'o', ' ', 'W', 'o', 'r', 'l', 'd', '!']\n",
    "for element in data:\n",
    "    print(ord(element), end=', ')"
   ]
  },
  {
   "cell_type": "markdown",
   "metadata": {
    "slideshow": {
     "slide_type": "slide"
    }
   },
   "source": [
    "# Bubble Sort"
   ]
  },
  {
   "cell_type": "markdown",
   "metadata": {
    "slideshow": {
     "slide_type": "subslide"
    }
   },
   "source": [
    "The program above was an implementation of an algorithm called _Bubble Sort_, which is one of the oldest known sorting algorithms for computers.\n",
    "\n",
    "Likely it was first described in 1956 by Edward H. Friend _Sorting on Electronic Computer Systems_, see for example http://www.jpk.pku.edu.cn/pkujpk/course/sjjg/chapter8/resource/Sorting%20on%20electronic%20computer%20systems.pdf\n",
    "\n",
    "<img src=\"images/paper_head.png\" width=\"500px\">"
   ]
  },
  {
   "cell_type": "markdown",
   "metadata": {
    "slideshow": {
     "slide_type": "subslide"
    }
   },
   "source": [
    "![](https://upload.wikimedia.org/wikipedia/commons/3/37/Bubble_sort_animation.gif)\n",
    "\n",
    "\n",
    "  > The list was plotted in a Cartesian coordinate system, with each point (x, y) indicating that the value y is stored at index x. Then the list would be sorted by bubble sort according to every pixel's value. Note that the largest end gets sorted first, with smaller elements taking longer to move to their correct positions.\n",
    "  >\n",
    "  > https://en.wikipedia.org/wiki/Bubble_sort"
   ]
  },
  {
   "cell_type": "markdown",
   "metadata": {
    "slideshow": {
     "slide_type": "slide"
    }
   },
   "source": [
    "## Algorithmic description\n",
    "\n",
    "**Input**: A list `l` that we want to sort.\n",
    "**Output**: A sorted list `l'` with elements in ascending order.\n",
    "\n",
    "#### Algorithm:\n",
    "\n",
    "In rounds (passes) for `n' = n - 1, ..., 0`, where n is the amount of elements in `l` do the following:\n",
    "- In rounds for `i = 0, .., n' - 1`\n",
    "  - Exchange `l[i]` and `l[i+1]` if `l[i] < l[i + 1]`. "
   ]
  },
  {
   "cell_type": "markdown",
   "metadata": {
    "slideshow": {
     "slide_type": "subslide"
    }
   },
   "source": [
    "## First pass through an input list\n",
    "\n",
    "![](http://interactivepython.org/runestone/static/pythonds/_images/bubblepass.png)"
   ]
  },
  {
   "cell_type": "markdown",
   "metadata": {
    "slideshow": {
     "slide_type": "subslide"
    }
   },
   "source": [
    "## Result\n",
    "- After the first round, the largest element is at `l[-1]`.\n",
    "- After the second round, the second-largest element is at `l[-2]`.\n",
    "- ...\n",
    "- After the $i$-th round, the $i$-largest element is in `l[-i]`."
   ]
  },
  {
   "cell_type": "markdown",
   "metadata": {
    "slideshow": {
     "slide_type": "subslide"
    }
   },
   "source": [
    "## Run-time Analysis\n",
    "\n",
    "What do we want to analyze:\n",
    "\n",
    "- $T_\\text{exchange}(n) = $ the maximum number of exchange for $n$ elements.\n",
    "- $T_\\text{comparison}(n) = $ the maximum number of comparisons between list elements for $n$ elements."
   ]
  },
  {
   "cell_type": "markdown",
   "metadata": {
    "slideshow": {
     "slide_type": "subslide"
    }
   },
   "source": [
    "- In the first round, we make $n - 1$ comparisons and at most $n - 2$ exchanges (that happens when the largest element is at `l[0]`).\n",
    "- In the second round, we make $n - 2$ comparisons and at most $n - 3$ exchanges.\n",
    "- and so on. \n",
    "\n",
    "This gives:\n",
    "\n",
    "- $T_\\text{comparisons} = (n - 1) \\times (n - 2) \\times \\cdots \\times 1 = \\frac{n (n - 1)}{2}.$\n",
    "- $T_\\text{exchange} \\leq (n - 2) \\times (n - 3) \\times \\cdots \\times 1 = \\frac{(n - 1)(n - 2)}{2}.$\n",
    "\n",
    "So, both have **quadratic runtime**, i.e., $O(n^2)$."
   ]
  },
  {
   "cell_type": "markdown",
   "metadata": {
    "slideshow": {
     "slide_type": "slide"
    }
   },
   "source": [
    "# Selection Sort"
   ]
  },
  {
   "cell_type": "markdown",
   "metadata": {
    "slideshow": {
     "slide_type": "subslide"
    }
   },
   "source": [
    "## Algorithmic Description\n",
    "\n",
    "Almost as bubble sort, idea:\n",
    "1. For $i$ from $1$ to $n$\n",
    "  1. Put the $i$-largest element into `l[-i]`.\n",
    "\n",
    "After $n$ rounds, all elements are then in the correct place. Each round can be implemented by scanning the part `l[0:-i + 1]` for the largest element and exchanging that element with `l[i]`."
   ]
  },
  {
   "cell_type": "markdown",
   "metadata": {
    "slideshow": {
     "slide_type": "subslide"
    }
   },
   "source": [
    "### Illustration \n",
    "\n",
    "![](http://interactivepython.org/runestone/static/pythonds/_images/selectionsortnew.png)"
   ]
  },
  {
   "cell_type": "markdown",
   "metadata": {
    "slideshow": {
     "slide_type": "subslide"
    }
   },
   "source": [
    "## Analysis\n",
    "\n",
    "- number of comparisons is exactly the same as in Bubble Sort\n",
    "- however, in each round we do exactly one exchange\n",
    "- i.e., $T(n) = n$, a **linear** number of exchanges."
   ]
  },
  {
   "cell_type": "markdown",
   "metadata": {
    "slideshow": {
     "slide_type": "slide"
    }
   },
   "source": [
    "# Can we do better?\n",
    "\n",
    "- It seems that $O(n^2)$ comparisons are unavoidable using methods such as Bubble sort or Selection sort. \n",
    "- In fact, how we humans usually sort is really slow if we had to sort large lists of data.\n",
    "- There exist much faster sorting algorithms\n",
    "- They usually feel artificial to us humans"
   ]
  },
  {
   "cell_type": "markdown",
   "metadata": {
    "slideshow": {
     "slide_type": "subslide"
    }
   },
   "source": [
    "\n",
    "  * Merge Sort - worst-case runtime $O(nlogn)$, average runtime $O(nlogn)$\n",
    "  * Quick Sort - worst-case runtime $O(n^2)$, average runtime $O(nlogn)$\n",
    "  * Timsort - worst-case runtime $O(nlogn)$, average runtime $O(nlogn)$\n",
    "  * ... and many many more ...\n",
    "  \n",
    "  \n",
    "The latter is the algorithm that Python uses for example for the `sorted` function, see https://en.wikipedia.org/wiki/Timsort"
   ]
  },
  {
   "cell_type": "markdown",
   "metadata": {
    "slideshow": {
     "slide_type": "fragment"
    }
   },
   "source": [
    "If you are interested in those, choose to study computer sciences. Otherwise it only matters that you know how to call a sorting algorithm for your data and that you know that they may not necessarily sort your data within your life time :)"
   ]
  }
 ],
 "metadata": {
  "celltoolbar": "Slideshow",
  "kernelspec": {
   "display_name": "Python 3",
   "language": "python",
   "name": "python3"
  },
  "language_info": {
   "codemirror_mode": {
    "name": "ipython",
    "version": 3
   },
   "file_extension": ".py",
   "mimetype": "text/x-python",
   "name": "python",
   "nbconvert_exporter": "python",
   "pygments_lexer": "ipython3",
   "version": "3.6.4"
  }
 },
 "nbformat": 4,
 "nbformat_minor": 2
}
