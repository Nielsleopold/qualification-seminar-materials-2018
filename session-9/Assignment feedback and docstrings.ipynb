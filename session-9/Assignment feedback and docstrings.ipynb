{
 "cells": [
  {
   "cell_type": "markdown",
   "metadata": {
    "slideshow": {
     "slide_type": "slide"
    }
   },
   "source": [
    "# Feedback on assignments"
   ]
  },
  {
   "cell_type": "markdown",
   "metadata": {
    "slideshow": {
     "slide_type": "subslide"
    }
   },
   "source": [
    "## Writing generic programs\n",
    "\n",
    "* Assignment\n",
    "  * Write a program, that can check the parenthesis in a file\n",
    "  * ```bash\n",
    "$ python paren_checker.py my_erroneous_program.py\n",
    "```"
   ]
  },
  {
   "cell_type": "markdown",
   "metadata": {
    "slideshow": {
     "slide_type": "subslide"
    }
   },
   "source": [
    "* Why is this code bad?\n",
    "\n",
    "```python\n",
    "from my_adts import Stack\n",
    "\n",
    "with open('the_hound_of_the_baskervilles.txt',encoding='utf8') as filepointer:\n",
    "    content = filepointer.readlines()\n",
    "```"
   ]
  },
  {
   "cell_type": "markdown",
   "metadata": {
    "slideshow": {
     "slide_type": "fragment"
    }
   },
   "source": [
    "* How can we make it better?"
   ]
  },
  {
   "cell_type": "code",
   "execution_count": null,
   "metadata": {
    "slideshow": {
     "slide_type": "subslide"
    }
   },
   "outputs": [],
   "source": [
    "from my_adts import Stack\n",
    "import sys\n",
    "\n",
    "def open_file(filename):\n",
    "    with open(filename, encoding='utf8') as filepointer:\n",
    "        content = filepointer.readlines()\n",
    "\n",
    "argument_list = sys.argv\n",
    "open_file(argument_list[1])"
   ]
  },
  {
   "cell_type": "markdown",
   "metadata": {
    "slideshow": {
     "slide_type": "subslide"
    }
   },
   "source": [
    "## Hand-in format\n",
    "\n",
    "* You are expected to hand in a **`.zip`** file\n",
    "  * **Not** a `.py` or `.txt`\n",
    "* Each question should have one file\n",
    "  * **Not** a single file for all the assignments"
   ]
  },
  {
   "cell_type": "markdown",
   "metadata": {
    "slideshow": {
     "slide_type": "fragment"
    }
   },
   "source": [
    "* Please practice this for the last assignment"
   ]
  },
  {
   "cell_type": "markdown",
   "metadata": {
    "slideshow": {
     "slide_type": "slide"
    }
   },
   "source": [
    "# Summary of the seminar so far"
   ]
  },
  {
   "cell_type": "markdown",
   "metadata": {
    "slideshow": {
     "slide_type": "fragment"
    }
   },
   "source": [
    "![](images/donning-kruger.png)"
   ]
  },
  {
   "cell_type": "markdown",
   "metadata": {
    "slideshow": {
     "slide_type": "subslide"
    }
   },
   "source": [
    "## Becoming an expert\n",
    "\n",
    "Most of you felt a little bummed out by the difficulty level of this course. \n",
    "\n",
    "Hopefully most of you also got some experience of success."
   ]
  },
  {
   "cell_type": "markdown",
   "metadata": {
    "slideshow": {
     "slide_type": "fragment"
    }
   },
   "source": [
    "What you definitely **did** get is knowledge. Let's go over some of the things you already know - and some of them you most likely find *easy* by now!"
   ]
  },
  {
   "cell_type": "markdown",
   "metadata": {
    "slideshow": {
     "slide_type": "subslide"
    }
   },
   "source": [
    "# Recap \n",
    "\n",
    "* Session 1: Basic Python\n",
    "* Session 2: Loops and control logic\n",
    "* Session 3: Functions and modules\n",
    "* Session 4: Command-line interface, debugging and testing\n",
    "* Session 5: Files and object-oriented programming\n",
    "* Session 6: Git and application of object-orientation (Excel)\n",
    "* Session 7: Runtimes\n",
    "* Session 8: Abstract data types (ADT)"
   ]
  },
  {
   "cell_type": "markdown",
   "metadata": {
    "slideshow": {
     "slide_type": "subslide"
    }
   },
   "source": [
    "## Other resources\n",
    "\n",
    "We are not the only ones doing courses on Python. Use:\n",
    "\n",
    "* The TA curated list on the LearnIT seminar page \n",
    "  * Videos on how to work with Python code and loops\n",
    "  * Codeacademy with coding tutorials\n",
    "  * Phone apps \n",
    "  * Etc."
   ]
  },
  {
   "cell_type": "markdown",
   "metadata": {
    "slideshow": {
     "slide_type": "subslide"
    }
   },
   "source": [
    "## Jupyter notebooks from your terminal\n",
    "\n",
    "```bash\n",
    "$ jupyter notebook\n",
    "```\n",
    "\n",
    "**Very** useful for the test if you want to run some code / try code out"
   ]
  },
  {
   "cell_type": "markdown",
   "metadata": {
    "slideshow": {
     "slide_type": "slide"
    }
   },
   "source": [
    "# Documentation\n",
    "\n",
    "You are using a lot of code written by other people.\n",
    "\n",
    "Before you were looking for the index of an element in a list. What do you expect when running this?"
   ]
  },
  {
   "cell_type": "code",
   "execution_count": 12,
   "metadata": {
    "slideshow": {
     "slide_type": "subslide"
    }
   },
   "outputs": [
    {
     "data": {
      "text/plain": [
       "0"
      ]
     },
     "execution_count": 12,
     "metadata": {},
     "output_type": "execute_result"
    }
   ],
   "source": [
    "[1, 2, 1].index(1)"
   ]
  },
  {
   "cell_type": "code",
   "execution_count": null,
   "metadata": {},
   "outputs": [],
   "source": []
  },
  {
   "cell_type": "code",
   "execution_count": null,
   "metadata": {},
   "outputs": [],
   "source": [
    "[1, 2, 1].index"
   ]
  },
  {
   "cell_type": "code",
   "execution_count": null,
   "metadata": {},
   "outputs": [],
   "source": [
    "[1, 2, 1].index"
   ]
  },
  {
   "cell_type": "code",
   "execution_count": null,
   "metadata": {},
   "outputs": [],
   "source": [
    "[1, 2, 1].index"
   ]
  },
  {
   "cell_type": "code",
   "execution_count": null,
   "metadata": {},
   "outputs": [],
   "source": [
    "[1, 2, 1].index"
   ]
  },
  {
   "cell_type": "code",
   "execution_count": null,
   "metadata": {},
   "outputs": [],
   "source": [
    "[1, 2, 1].index"
   ]
  },
  {
   "cell_type": "code",
   "execution_count": null,
   "metadata": {},
   "outputs": [],
   "source": [
    "[1, 2, 1].index"
   ]
  },
  {
   "cell_type": "markdown",
   "metadata": {
    "slideshow": {
     "slide_type": "subslide"
    }
   },
   "source": [
    "It could be either 0 or 2. How can we know? We have to ask the programmer that implemented the code!"
   ]
  },
  {
   "cell_type": "markdown",
   "metadata": {
    "slideshow": {
     "slide_type": "fragment"
    }
   },
   "source": [
    "Put in other words, we need some **meta**-information. Information about how the code is running. That is called documentation."
   ]
  },
  {
   "cell_type": "code",
   "execution_count": 4,
   "metadata": {
    "slideshow": {
     "slide_type": "subslide"
    }
   },
   "outputs": [],
   "source": [
    "list.index?"
   ]
  },
  {
   "cell_type": "markdown",
   "metadata": {
    "slideshow": {
     "slide_type": "subslide"
    }
   },
   "source": [
    "## Writing your own documentation\n",
    "\n",
    "Documentation is mainly used on classes and functions. Today will look at how to document functions."
   ]
  },
  {
   "cell_type": "code",
   "execution_count": 25,
   "metadata": {
    "slideshow": {
     "slide_type": "fragment"
    }
   },
   "outputs": [],
   "source": [
    "def print_hello_world():\n",
    "    '''Prints hello world'''\n",
    "    print('Hello World')"
   ]
  },
  {
   "cell_type": "code",
   "execution_count": 26,
   "metadata": {
    "slideshow": {
     "slide_type": "fragment"
    }
   },
   "outputs": [],
   "source": [
    "print_hello_world?"
   ]
  },
  {
   "cell_type": "code",
   "execution_count": 27,
   "metadata": {
    "slideshow": {
     "slide_type": "subslide"
    }
   },
   "outputs": [],
   "source": [
    "def print_hello_world():\n",
    "    '''Once upon a time, a very cool programmer from the heart of \n",
    "    Germany, wrote a function. This function was to be a masterpiece\n",
    "    of epic proportions, and would impact countless souls on the planet\n",
    "    earth. The function was called \"print_hello_world\", and it printed\n",
    "    hello world.'''\n",
    "    print('Hello World')"
   ]
  },
  {
   "cell_type": "code",
   "execution_count": 28,
   "metadata": {
    "slideshow": {
     "slide_type": "fragment"
    }
   },
   "outputs": [],
   "source": [
    "print_hello_world?"
   ]
  },
  {
   "cell_type": "markdown",
   "metadata": {
    "slideshow": {
     "slide_type": "subslide"
    }
   },
   "source": [
    "## Documenting function arguments\n",
    "\n",
    "Try to answer questions like\n",
    "\n",
    "* What is the expected function arguments? \n",
    "* What are *illegal* arguments?\n",
    "* Are they optional or required?"
   ]
  },
  {
   "cell_type": "code",
   "execution_count": 29,
   "metadata": {
    "slideshow": {
     "slide_type": "subslide"
    }
   },
   "outputs": [],
   "source": [
    "def print_name(name):\n",
    "    '''Prints a given name\n",
    "    \n",
    "    Arguments:\n",
    "    name -- Name to print out\n",
    "    '''\n",
    "    print(name)"
   ]
  },
  {
   "cell_type": "code",
   "execution_count": 30,
   "metadata": {
    "slideshow": {
     "slide_type": "fragment"
    }
   },
   "outputs": [],
   "source": [
    "print_name?"
   ]
  },
  {
   "cell_type": "code",
   "execution_count": 31,
   "metadata": {
    "slideshow": {
     "slide_type": "subslide"
    }
   },
   "outputs": [],
   "source": [
    "def print_full_name(firstname, surname=''):\n",
    "    '''Prints a full name\n",
    "    \n",
    "    Arguments:\n",
    "    firstname -- The first name of the person\n",
    "    \n",
    "    Optional arguments:\n",
    "    surname -- The last name of the person\n",
    "    '''\n",
    "    if surname == '':\n",
    "        print(firstname)\n",
    "    else:\n",
    "        print(firstname + ' ' + surname)"
   ]
  },
  {
   "cell_type": "code",
   "execution_count": 35,
   "metadata": {
    "slideshow": {
     "slide_type": "fragment"
    }
   },
   "outputs": [],
   "source": [
    "print_full_name?"
   ]
  },
  {
   "cell_type": "markdown",
   "metadata": {
    "slideshow": {
     "slide_type": "subslide"
    }
   },
   "source": [
    "## Documenting function return value\n",
    "\n",
    "Functions can also return values. Try to answer question like:\n",
    "\n",
    "* What type is getting back? Numbers or strings or...?\n",
    "* What happens if there is an error? What is returned then? (Python default is `None`)"
   ]
  },
  {
   "cell_type": "code",
   "execution_count": 36,
   "metadata": {
    "slideshow": {
     "slide_type": "subslide"
    }
   },
   "outputs": [],
   "source": [
    "def address_person(name, article=None):\n",
    "    '''Creates a string that politely addresses a person\n",
    "    \n",
    "    Arguments:\n",
    "    name -- The name of the person to address\n",
    "    \n",
    "    Optional arguments:\n",
    "    article -- The article with which to address the person (defaults to None)\n",
    "    \n",
    "    Returns:\n",
    "    A full string addressing the person\n",
    "    '''\n",
    "    response = 'Dear '\n",
    "    if article:\n",
    "        response += article + ' '\n",
    "    response += name\n",
    "    return response"
   ]
  },
  {
   "cell_type": "code",
   "execution_count": 37,
   "metadata": {
    "slideshow": {
     "slide_type": "fragment"
    }
   },
   "outputs": [],
   "source": [
    "address_person?"
   ]
  },
  {
   "cell_type": "code",
   "execution_count": 38,
   "metadata": {
    "slideshow": {
     "slide_type": "subslide"
    }
   },
   "outputs": [
    {
     "name": "stdout",
     "output_type": "stream",
     "text": [
      "Dear Mr. Bobby Pringles\n"
     ]
    }
   ],
   "source": [
    "print(address_person('Bobby Pringles', 'Mr.'))"
   ]
  },
  {
   "cell_type": "code",
   "execution_count": 41,
   "metadata": {
    "slideshow": {
     "slide_type": "subslide"
    }
   },
   "outputs": [
    {
     "name": "stdout",
     "output_type": "stream",
     "text": [
      "Dear Mrs. Shania Twain\n"
     ]
    }
   ],
   "source": [
    "print(address_person('Shania Twain', 'Mrs.'))"
   ]
  },
  {
   "cell_type": "markdown",
   "metadata": {
    "slideshow": {
     "slide_type": "slide"
    }
   },
   "source": [
    "# Advice on how to write documentation\n",
    "\n",
    "* Documentation should be **about** the code, not actual code\n",
    "* Documentation should be written from the perspective of the user, *not* the programmer\n",
    "* Documentation should be short and to the point\n",
    "* Documentation can be meta-information to other programmers"
   ]
  },
  {
   "cell_type": "markdown",
   "metadata": {
    "slideshow": {
     "slide_type": "fragment"
    }
   },
   "source": [
    "PS: You should expect this from your future work, cf. *technical debt*"
   ]
  },
  {
   "cell_type": "markdown",
   "metadata": {
    "slideshow": {
     "slide_type": "subslide"
    }
   },
   "source": [
    "## Bad documentation"
   ]
  },
  {
   "cell_type": "code",
   "execution_count": null,
   "metadata": {
    "slideshow": {
     "slide_type": "fragment"
    }
   },
   "outputs": [],
   "source": [
    "# set the value of the age variable to 32\n",
    "age = 32"
   ]
  },
  {
   "cell_type": "code",
   "execution_count": null,
   "metadata": {
    "slideshow": {
     "slide_type": "fragment"
    }
   },
   "outputs": [],
   "source": [
    "def multiply(a, b):\n",
    "    '''Returns an int'''\n",
    "    return a * b"
   ]
  },
  {
   "cell_type": "code",
   "execution_count": null,
   "metadata": {
    "slideshow": {
     "slide_type": "subslide"
    }
   },
   "outputs": [],
   "source": [
    "def multiply(a, b):\n",
    "    '''Returns an int\n",
    "    \n",
    "    Arguments:\n",
    "    a -- The a to use\n",
    "    b -- The b to use\n",
    "    '''\n",
    "    return a * b"
   ]
  },
  {
   "cell_type": "markdown",
   "metadata": {
    "slideshow": {
     "slide_type": "subslide"
    }
   },
   "source": [
    "## Good documentation"
   ]
  },
  {
   "cell_type": "code",
   "execution_count": null,
   "metadata": {
    "slideshow": {
     "slide_type": "subslide"
    }
   },
   "outputs": [],
   "source": [
    "def multiply(a, b):\n",
    "    '''Multiplies two numbers and returns the result'''\n",
    "    return a * b"
   ]
  },
  {
   "cell_type": "code",
   "execution_count": null,
   "metadata": {
    "slideshow": {
     "slide_type": "subslide"
    }
   },
   "outputs": [],
   "source": [
    "# Somewhere in the middle of your code\n",
    "'''Dear maintainer:\n",
    " \n",
    "Once you are done trying to 'optimize' this routine,\n",
    "and have realized what a terrible mistake that was,\n",
    "please increment the following counter as a warning\n",
    "to the next guy:\n",
    " \n",
    "total_hours_wasted_here = 42\n",
    "'''"
   ]
  }
 ],
 "metadata": {
  "celltoolbar": "Slideshow",
  "kernelspec": {
   "display_name": "Python 3",
   "language": "python",
   "name": "python3"
  },
  "language_info": {
   "codemirror_mode": {
    "name": "ipython",
    "version": 3
   },
   "file_extension": ".py",
   "mimetype": "text/x-python",
   "name": "python",
   "nbconvert_exporter": "python",
   "pygments_lexer": "ipython3",
   "version": "3.6.4"
  }
 },
 "nbformat": 4,
 "nbformat_minor": 2
}
