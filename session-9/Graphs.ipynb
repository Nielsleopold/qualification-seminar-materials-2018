{
 "cells": [
  {
   "cell_type": "markdown",
   "metadata": {
    "slideshow": {
     "slide_type": "slide"
    }
   },
   "source": [
    " # Graphs\n",
    "\n",
    "\n",
    "![](https://www.scraawl.com/product/wp-content/uploads/2016/09/SocialNetwork.png)"
   ]
  },
  {
   "cell_type": "markdown",
   "metadata": {
    "slideshow": {
     "slide_type": "slide"
    }
   },
   "source": [
    "# Social Networks are Graphs\n",
    "\n",
    "Evelina Gabasova wrote programs to analyse the scripts of six Star Wars movies, see http://evelinag.com/blog/2015/12-15-star-wars-social-network/index.html\n",
    "\n",
    "<img src=\"http://evelinag.com/img/evelina_small_bw.jpg\" alt=\"Drawing\" style=\"width: 200px;\"/>\n",
    "\n",
    "\n",
    "She made all her data accessible online: https://github.com/evelinag/StarWars-social-network"
   ]
  },
  {
   "cell_type": "markdown",
   "metadata": {
    "slideshow": {
     "slide_type": "slide"
    }
   },
   "source": [
    "# Analysis of Movie Scripts\n",
    "\n",
    "![](https://upload.wikimedia.org/wikipedia/en/8/87/StarWarsMoviePoster1977.jpg)\n",
    "\n",
    "\n",
    "The scripts of many movies are accessible online in the Internet Movie Scripts Database (IMSDB). For example, http://www.imsdb.com/scripts/Star-Wars-A-New-Hope.html contains the script for _Star Wars Episode IV_."
   ]
  },
  {
   "cell_type": "markdown",
   "metadata": {
    "slideshow": {
     "slide_type": "subslide"
    }
   },
   "source": [
    "She was interested in which character appears how often with other characters in certain scences and how often they talk with and about each other.\n",
    "\n",
    "![](https://upload.wikimedia.org/wikipedia/en/8/82/Leiadeathstar.jpg)\n",
    "\n",
    "She made all her data accessible online: https://github.com/evelinag/StarWars-social-network\n",
    "\n",
    "Essentially, she inferred a social network out of the movie scripts."
   ]
  },
  {
   "cell_type": "markdown",
   "metadata": {
    "slideshow": {
     "slide_type": "subslide"
    }
   },
   "source": [
    "### A Social What?\n",
    "\n",
    "Have a look to the following figure. It illustrates that `Leia` appears in as many scences as `Darth Vader` in the fourth episode of Star Wars (26 times each, hover over the nodes to the the pop-up). But `Darth Vader` appears together with more characters."
   ]
  },
  {
   "cell_type": "code",
   "execution_count": 2,
   "metadata": {
    "slideshow": {
     "slide_type": "-"
    }
   },
   "outputs": [
    {
     "data": {
      "text/html": [
       "\n",
       "        <iframe\n",
       "            width=\"100%\"\n",
       "            height=\"500\"\n",
       "            src=\"./sw_episode_4.html\"\n",
       "            frameborder=\"0\"\n",
       "            allowfullscreen\n",
       "        ></iframe>\n",
       "        "
      ],
      "text/plain": [
       "<IPython.lib.display.IFrame at 0x104d55908>"
      ]
     },
     "execution_count": 2,
     "metadata": {},
     "output_type": "execute_result"
    }
   ],
   "source": [
    "from IPython.display import IFrame\n",
    "IFrame('./sw_episode_4.html', width='100%', height=500)"
   ]
  },
  {
   "cell_type": "markdown",
   "metadata": {
    "slideshow": {
     "slide_type": "subslide"
    }
   },
   "source": [
    "## A Graph\n",
    "\n",
    "That Star Wars illustration is a _graph_, actually an undirected graph.\n",
    "\n",
    "\n",
    "### Undirected Graphs\n",
    "\n",
    "A *graph* $G$ consists of:\n",
    "\n",
    "  * a nonempty set, $V(G)$, called the *vertices* of $G$, and \n",
    "  * a set $E(G)$ called the *edges* of $G$."
   ]
  },
  {
   "cell_type": "markdown",
   "metadata": {
    "slideshow": {
     "slide_type": "fragment"
    }
   },
   "source": [
    "An element of $V(G)$ is called a *vertex*. A vertex is also called a *node*; the words _vertex_ and _node_ are used interchangeably. \n",
    "\n",
    "An element of $E(G)$ is an *undirected* edge or simply an _edge_. An undirected edge has two vertices $u\\neq v$ called its endpoints. Such an edge can be represented by the two element set $\\{u, v\\}$. The notation $\\langle u—v \\rangle$ denotes this edge.\n",
    "Both $\\langle u—v \\rangle$ and $\\langle v—u \\rangle$ define the same undirected edge, whose endpoints are $u$ and $v$."
   ]
  },
  {
   "cell_type": "markdown",
   "metadata": {
    "slideshow": {
     "slide_type": "subslide"
    }
   },
   "source": [
    "For example, let $H$ be the graph pictured in Figure below. The vertices of $H$\n",
    "are:\n",
    "\n",
    "$V(H) = \\{\"R2-D2\", \"C-3Po\", \"Luke\", \"Darth Vader\", \"Camie\",\\\\\n",
    "\"Biggs\", \"Leia\", \"Beru\", \"Owen\", \"Obi-Wan\", \"Motti\", \"Tarkin\", \\\\\n",
    "\"Han\", \"Greedo\", \"Jabba\", \"Dodonna\", \"Gold Leader\", \"Wedge\", \\\\\n",
    "\"Red Leader\", \"Red Ten\", \"Gold Five\"\\}$\n",
    "\n",
    "The edges are $E(H) = \\big\\{\\langle Chewbacca—R2-D2 \\rangle, \\langle Chewbacca—Obi-Wan \\rangle, \\langle Chewbacca—Luke \\rangle, \\langle Chewbacca—Han \\rangle, \\langle Chewbacca—Leia \\rangle, \\langle C-3Po—Chewbacca \\rangle, \n",
    "\\langle Luke—R2-D2 \\rangle, \\langle Luke—Owen \\rangle, \\langle Luke—Obi-wan \\rangle, \\langle Luke—Wedge \\rangle, \\langle Luke—Red Leader \\rangle, \\langle Luke—Red Ten \\rangle, \n",
    "\\langle Camie—Luke \\rangle, \\langle Biggs—Luke \\rangle, \\langle Beru—Luke \\rangle, \\langle C-3Po—Luke \\rangle, \\langle Leia—Luke \\rangle, \\langle Han—Luke \\rangle, \\langle Dodonna—Luke \\rangle, \\langle Gold Leader—Luke \\rangle \\dots \\big\\}$"
   ]
  },
  {
   "cell_type": "code",
   "execution_count": 3,
   "metadata": {
    "slideshow": {
     "slide_type": "-"
    }
   },
   "outputs": [
    {
     "data": {
      "text/html": [
       "\n",
       "        <iframe\n",
       "            width=\"100%\"\n",
       "            height=\"500\"\n",
       "            src=\"./sw_episode_4.html\"\n",
       "            frameborder=\"0\"\n",
       "            allowfullscreen\n",
       "        ></iframe>\n",
       "        "
      ],
      "text/plain": [
       "<IPython.lib.display.IFrame at 0x104d55710>"
      ]
     },
     "execution_count": 3,
     "metadata": {},
     "output_type": "execute_result"
    }
   ],
   "source": [
    "IFrame('./sw_episode_4.html', width='100%', height=500) "
   ]
  },
  {
   "cell_type": "markdown",
   "metadata": {
    "slideshow": {
     "slide_type": "subslide"
    }
   },
   "source": [
    "### Directed Graphs\n",
    "\n",
    "A *directed graph* -or *digraph*- $G$ consists of:\n",
    "\n",
    "  * a nonempty set $V(G)$, called the vertices of $G$, and \n",
    "  * a set $E(G)$, called the edges of $G$.\n",
    "\n",
    "An element of $E(G)$ is called a *directed edge*. A _directed edge_ is also called an \"arrow\" or simply an \"edge\". A directed edge starts at some vertex $u$ called the *tail* of the edge, and ends at some vertex $v$ called the *head* of the edge. The notation $\\langle u \\rightarrow v\\rangle$ denotes this edge"
   ]
  },
  {
   "cell_type": "code",
   "execution_count": 4,
   "metadata": {
    "slideshow": {
     "slide_type": "-"
    }
   },
   "outputs": [
    {
     "data": {
      "text/html": [
       "\n",
       "        <iframe\n",
       "            width=\"100%\"\n",
       "            height=\"500\"\n",
       "            src=\"./sw_episode_4_directed.html\"\n",
       "            frameborder=\"0\"\n",
       "            allowfullscreen\n",
       "        ></iframe>\n",
       "        "
      ],
      "text/plain": [
       "<IPython.lib.display.IFrame at 0x104d558d0>"
      ]
     },
     "execution_count": 4,
     "metadata": {},
     "output_type": "execute_result"
    }
   ],
   "source": [
    "IFrame('./sw_episode_4_directed.html', width='100%', height=500)"
   ]
  },
  {
   "cell_type": "markdown",
   "metadata": {
    "slideshow": {
     "slide_type": "subslide"
    }
   },
   "source": [
    "### Path\n",
    "\n",
    "A path in a graph is a _sequence of vertices_ that are connected by edges. Formally we would define a path as $v_1, v_2, \\dots v_n$ such that $(v_i,v_{i+1}) \\in E$ for all $1\\leq i\\leq n−1$\n",
    " \n",
    "The _length_ of a path is the number of edges in the path.\n",
    "\n",
    "For example, in the graph below we have a path of length four from: `Biggs` via `C-3Po`, `Chewbacca`, `Han` to `Jabba`\n",
    "and another path of length three from to `Biggs` via `C-3Po`, `Han` to `Jabba`."
   ]
  },
  {
   "cell_type": "code",
   "execution_count": 5,
   "metadata": {
    "slideshow": {
     "slide_type": "subslide"
    }
   },
   "outputs": [
    {
     "data": {
      "text/html": [
       "\n",
       "        <iframe\n",
       "            width=\"100%\"\n",
       "            height=\"500\"\n",
       "            src=\"./sw_episode_4_directed.html\"\n",
       "            frameborder=\"0\"\n",
       "            allowfullscreen\n",
       "        ></iframe>\n",
       "        "
      ],
      "text/plain": [
       "<IPython.lib.display.IFrame at 0x104d55d68>"
      ]
     },
     "execution_count": 5,
     "metadata": {},
     "output_type": "execute_result"
    }
   ],
   "source": [
    "IFrame('./sw_episode_4_directed.html', width='100%', height=500)"
   ]
  },
  {
   "cell_type": "markdown",
   "metadata": {
    "slideshow": {
     "slide_type": "subslide"
    }
   },
   "source": [
    "## The _Graph_ Abstract Data Type\n",
    "\n",
    "A _graph_ is again an abstract data type (ADT), such as the _stack_, _queue_, etc.\n",
    "\n",
    "\n",
    "![](https://png.pngtree.com/element_our/sm/20180326/sm_5ab8da4439ad3.png)\n",
    "\n",
    "Graphs are an often used ADT in computer science, programming, and real live. It is often used to represent social networks, such as, Twitter folloer relations, LinkedIn connections, Facebook friends, etc.\n",
    "\n",
    "In those platforms graphs are used, for example, to find your friends/colleagues/follower or to suggest new people to you because they are known by some of your connections."
   ]
  },
  {
   "cell_type": "markdown",
   "metadata": {
    "slideshow": {
     "slide_type": "fragment"
    }
   },
   "source": [
    "Beginning with the formal definition and the illustrations above, there are several ways to implement a graph ADT in Python. \n",
    "\n",
    "There are two well-known implementations of a graph, the _adjacency matrix_ and the _adjacency list_. In the following, we will try to understand these options, and then implement the latter via Python classes."
   ]
  },
  {
   "cell_type": "markdown",
   "metadata": {
    "slideshow": {
     "slide_type": "subslide"
    }
   },
   "source": [
    "### How could we implement Graphs? \n",
    "\n",
    "#### How could we implement Graphs? Edges?"
   ]
  },
  {
   "cell_type": "markdown",
   "metadata": {
    "slideshow": {
     "slide_type": "subslide"
    }
   },
   "source": [
    "#### An Adjacency Matrix\n",
    "\n",
    "<img src=\"images/adj_matrix.png\" alt=\"Drawing\" style=\"width: 800px;\"/>"
   ]
  },
  {
   "cell_type": "code",
   "execution_count": 6,
   "metadata": {},
   "outputs": [
    {
     "data": {
      "text/html": [
       "\n",
       "        <iframe\n",
       "            width=\"100%\"\n",
       "            height=\"500\"\n",
       "            src=\"./sw_episode_4_directed_small.html\"\n",
       "            frameborder=\"0\"\n",
       "            allowfullscreen\n",
       "        ></iframe>\n",
       "        "
      ],
      "text/plain": [
       "<IPython.lib.display.IFrame at 0x104d55da0>"
      ]
     },
     "execution_count": 6,
     "metadata": {},
     "output_type": "execute_result"
    }
   ],
   "source": [
    "IFrame('./sw_episode_4_directed_small.html', width='100%', height=500) "
   ]
  },
  {
   "cell_type": "markdown",
   "metadata": {
    "slideshow": {
     "slide_type": "subslide"
    }
   },
   "source": [
    "\n",
    "  * How can we store an adjacency matrix in Python?\n",
    "<img src=\"images/adj_matrix.png\" alt=\"Drawing\" style=\"width: 800px;\"/>"
   ]
  },
  {
   "cell_type": "code",
   "execution_count": 73,
   "metadata": {
    "slideshow": {
     "slide_type": "fragment"
    }
   },
   "outputs": [],
   "source": [
    "adj_matrix = [[None, None, None, 14,   None, None, None, 8],\n",
    "              [3,    None, None, None, None, None, None, None],\n",
    "              [17,   4,    None, 18,   None, None, None, 6],\n",
    "              [14,   None, None, None, None, None , None, None],\n",
    "              [None, None, None, None, None, None, None, 1],\n",
    "              [None, None, None, 2,    None, None, None, None],\n",
    "              [1,    None, 1,    4,    None, 2,    None, 1],\n",
    "              [5,    None, None, 17,   None, None, None, None]]"
   ]
  },
  {
   "cell_type": "code",
   "execution_count": 77,
   "metadata": {
    "slideshow": {
     "slide_type": "fragment"
    }
   },
   "outputs": [
    {
     "data": {
      "text/plain": [
       "'uiuiui'"
      ]
     },
     "execution_count": 77,
     "metadata": {},
     "output_type": "execute_result"
    }
   ],
   "source": [
    "# Relations from C-Po to Luke\n",
    "adj_matrix[3][5]"
   ]
  },
  {
   "cell_type": "markdown",
   "metadata": {
    "slideshow": {
     "slide_type": "subslide"
    }
   },
   "source": [
    "\n",
    "  * How can we store an adjacency matrix in Python?\n",
    "<img src=\"images/adj_matrix.png\" alt=\"Drawing\" style=\"width: 800px;\"/>"
   ]
  },
  {
   "cell_type": "code",
   "execution_count": 79,
   "metadata": {
    "slideshow": {
     "slide_type": "fragment"
    }
   },
   "outputs": [],
   "source": [
    "adj_matrix = {\n",
    "    'R2-D2': \n",
    "        {'R2-D2': None, 'Chewbacca': None, 'C-Po': None, 'Luke': 14, 'Darth V.': None, 'Cami': None, 'Biggs': None, 'Leia': 8}, \n",
    "    'Chewbacca': \n",
    "        {'R2-D2': 3, 'Chewbacca': None, 'C-Po': None, 'Luke': None, 'Darth V.': None, 'Cami': None, 'Biggs': None, 'Leia': None},\n",
    "    'C-Po': \n",
    "        {'R2-D2': 17, 'Chewbacca': 4, 'C-Po': None, 'Luke': 18, 'Darth V.': None, 'Cami': None, 'Biggs': None, 'Leia': 6},\n",
    "    'Luke': \n",
    "        {'R2-D2': 14, 'Chewbacca': None, 'C-Po': None, 'Luke': None, 'Darth V.': None, 'Cami': None, 'Biggs': None, 'Leia': None},\n",
    "    'Darth V.': \n",
    "        {'R2-D2': None, 'Chewbacca': None, 'C-Po': None, 'Luke': None, 'Darth V.': None, 'Cami': None, 'Biggs': None, 'Leia': 1},\n",
    "    'Cami': \n",
    "        {'R2-D2': None, 'Chewbacca': None, 'C-Po': None, 'Luke': 2, 'Darth V.': None, 'Cami': None, 'Biggs': None, 'Leia': None},\n",
    "    'Biggs': \n",
    "        {'R2-D2': 1, 'Chewbacca': None, 'C-Po': 1, 'Luke': 4, 'Darth V.': None, 'Cami': 2, 'Biggs': None, 'Leia': 1},\n",
    "    'Leia': \n",
    "        {'R2-D2': 5, 'Chewbacca': None, 'C-Po': None, 'Luke': 17, 'Darth V.': None, 'Cami': None, 'Biggs': None, 'Leia': None}\n",
    "}"
   ]
  },
  {
   "cell_type": "code",
   "execution_count": 80,
   "metadata": {
    "slideshow": {
     "slide_type": "fragment"
    }
   },
   "outputs": [
    {
     "data": {
      "text/plain": [
       "18"
      ]
     },
     "execution_count": 80,
     "metadata": {},
     "output_type": "execute_result"
    }
   ],
   "source": [
    "adj_matrix['C-Po']['Luke']"
   ]
  },
  {
   "cell_type": "markdown",
   "metadata": {
    "slideshow": {
     "slide_type": "subslide"
    }
   },
   "source": [
    "  * Did we see directed or undirected edges in the adjacency matrices?"
   ]
  },
  {
   "cell_type": "markdown",
   "metadata": {
    "slideshow": {
     "slide_type": "fragment"
    }
   },
   "source": [
    "  * What are advantages and drawbacks of storing a graph's edges via an adjacency matrix?"
   ]
  },
  {
   "cell_type": "markdown",
   "metadata": {
    "slideshow": {
     "slide_type": "fragment"
    }
   },
   "source": [
    "  * How else could we store a graph's edges?"
   ]
  },
  {
   "cell_type": "code",
   "execution_count": null,
   "metadata": {},
   "outputs": [],
   "source": []
  },
  {
   "cell_type": "markdown",
   "metadata": {
    "slideshow": {
     "slide_type": "subslide"
    }
   },
   "source": [
    "## How can we implement Graphs?"
   ]
  },
  {
   "cell_type": "code",
   "execution_count": 85,
   "metadata": {
    "slideshow": {
     "slide_type": "fragment"
    }
   },
   "outputs": [
    {
     "data": {
      "text/plain": [
       "dict_keys(['R2-D2', 'Chewbacca', 'C-Po', 'Luke', 'Darth V.', 'Cami', 'Biggs', 'Leia'])"
      ]
     },
     "execution_count": 85,
     "metadata": {},
     "output_type": "execute_result"
    }
   ],
   "source": [
    "sw_episode4_graph = {\n",
    "    'R2-D2': ['Luke', 'Leia'], \n",
    "    'Chewbacca': ['R2-D2'],\n",
    "    'C-Po': ['R2-D2', 'Chewbacca', 'Luke', 'Leia'],\n",
    "    'Luke': ['R2-D2'],\n",
    "    'Darth V.': ['Leia'],\n",
    "    'Cami': ['Luke'],\n",
    "    'Biggs': ['R2-D2', 'C-Po', 'Luke', 'Cami', 'Leia'],\n",
    "    'Leia': ['R2-D2', 'Luke']\n",
    "}\n",
    "\n",
    "\n",
    "vertices = sw_episode4_graph.keys()\n",
    "vertices"
   ]
  },
  {
   "cell_type": "markdown",
   "metadata": {
    "slideshow": {
     "slide_type": "fragment"
    }
   },
   "source": [
    "  * Is this an abstract datatype?"
   ]
  },
  {
   "cell_type": "markdown",
   "metadata": {
    "slideshow": {
     "slide_type": "fragment"
    }
   },
   "source": [
    "  * Why can it be better to implement a graph and vertices via classes?"
   ]
  },
  {
   "cell_type": "markdown",
   "metadata": {
    "slideshow": {
     "slide_type": "subslide"
    }
   },
   "source": [
    "When implemted as ADT a _graph_ may consist of two Python classes with corresponding operations. One class is called `Graph` and one called `Vertex`.\n",
    "\n",
    "<img src=\"images/graph_cd.png\" alt=\"Drawing\" style=\"width: 800px;\"/>"
   ]
  },
  {
   "cell_type": "markdown",
   "metadata": {
    "slideshow": {
     "slide_type": "fragment"
    }
   },
   "source": [
    "  * But what about the edges? Why are they not a class too?"
   ]
  },
  {
   "cell_type": "markdown",
   "metadata": {
    "slideshow": {
     "slide_type": "subslide"
    }
   },
   "source": [
    "### Let's Start with Modelling Vertices"
   ]
  },
  {
   "cell_type": "code",
   "execution_count": 86,
   "metadata": {
    "slideshow": {
     "slide_type": "-"
    }
   },
   "outputs": [],
   "source": [
    "class Vertex:\n",
    "    def __init__(self, key):\n",
    "        self.key = key\n",
    "        self.edges_to = []\n",
    "\n",
    "    def add_edge(self, target):\n",
    "        self.edges_to.append(target)"
   ]
  },
  {
   "cell_type": "code",
   "execution_count": 88,
   "metadata": {
    "slideshow": {
     "slide_type": "fragment"
    }
   },
   "outputs": [
    {
     "name": "stdout",
     "output_type": "stream",
     "text": [
      "<__main__.Vertex object at 0x104ec9080>\n"
     ]
    }
   ],
   "source": [
    "chewbacca = Vertex('Chewbacca')\n",
    "print(chewbacca)"
   ]
  },
  {
   "cell_type": "code",
   "execution_count": 89,
   "metadata": {
    "slideshow": {
     "slide_type": "subslide"
    }
   },
   "outputs": [
    {
     "name": "stdout",
     "output_type": "stream",
     "text": [
      "['R2-D2', 'Chewbacca', 'C-3Po', 'Luke', 'Darth Vader', 'Camie', 'Biggs', 'Leia', 'Beru', 'Owen', 'Obi-Wan', 'Motti', 'Tarkin', 'Han', 'Greedo', 'Jabba', 'Dodonna', 'Gold Leader', 'Wedge', 'Red Leader', 'Red Ten', 'Gold Five']\n",
      "<class 'list'>\n"
     ]
    }
   ],
   "source": [
    "from episode_4_data import NODE_NAMES\n",
    "\n",
    "\n",
    "print(NODE_NAMES)\n",
    "print(type(NODE_NAMES))"
   ]
  },
  {
   "cell_type": "markdown",
   "metadata": {
    "slideshow": {
     "slide_type": "fragment"
    }
   },
   "source": [
    "#### Thus, we can create vertices _manually_"
   ]
  },
  {
   "cell_type": "code",
   "execution_count": 90,
   "metadata": {
    "slideshow": {
     "slide_type": "-"
    }
   },
   "outputs": [],
   "source": [
    "vertices = []\n",
    "\n",
    "for name in NODE_NAMES:\n",
    "    v = Vertex(name)\n",
    "    vertices.append(v)"
   ]
  },
  {
   "cell_type": "markdown",
   "metadata": {
    "slideshow": {
     "slide_type": "subslide"
    }
   },
   "source": [
    "###### What do we have now in memory?\n",
    "\n",
    "Either navigate to http://pythontutor.com/visualize.html and enter the above program.\n",
    "\n",
    "Alternatively, you have a visualization of that program here: https://goo.gl/xr94LM.\n",
    "Note, that in there the first five vertices have already been created."
   ]
  },
  {
   "cell_type": "code",
   "execution_count": 91,
   "metadata": {
    "slideshow": {
     "slide_type": "-"
    }
   },
   "outputs": [
    {
     "data": {
      "text/plain": [
       "[<__main__.Vertex at 0x104ec7390>,\n",
       " <__main__.Vertex at 0x104ec7ef0>,\n",
       " <__main__.Vertex at 0x104ec7358>,\n",
       " <__main__.Vertex at 0x104ec7320>,\n",
       " <__main__.Vertex at 0x104ec7cc0>,\n",
       " <__main__.Vertex at 0x104ec7b70>,\n",
       " <__main__.Vertex at 0x104ec7d30>,\n",
       " <__main__.Vertex at 0x104ec7da0>,\n",
       " <__main__.Vertex at 0x104ec7780>,\n",
       " <__main__.Vertex at 0x104ec7860>,\n",
       " <__main__.Vertex at 0x104ec7588>,\n",
       " <__main__.Vertex at 0x104ec7438>,\n",
       " <__main__.Vertex at 0x104ec72e8>,\n",
       " <__main__.Vertex at 0x104ec77f0>,\n",
       " <__main__.Vertex at 0x104ec72b0>,\n",
       " <__main__.Vertex at 0x104ec71d0>,\n",
       " <__main__.Vertex at 0x104ec7fd0>,\n",
       " <__main__.Vertex at 0x104ec7128>,\n",
       " <__main__.Vertex at 0x104ec70f0>,\n",
       " <__main__.Vertex at 0x104ec70b8>,\n",
       " <__main__.Vertex at 0x104ec7080>,\n",
       " <__main__.Vertex at 0x104ec7048>]"
      ]
     },
     "execution_count": 91,
     "metadata": {},
     "output_type": "execute_result"
    }
   ],
   "source": [
    "vertices"
   ]
  },
  {
   "cell_type": "markdown",
   "metadata": {
    "slideshow": {
     "slide_type": "subslide"
    }
   },
   "source": [
    "#### So let's add the edges in between the vertices.\n",
    "\n",
    "You can find the data about the edges in a helper module for this session."
   ]
  },
  {
   "cell_type": "code",
   "execution_count": 99,
   "metadata": {
    "slideshow": {
     "slide_type": "fragment"
    }
   },
   "outputs": [
    {
     "name": "stdout",
     "output_type": "stream",
     "text": [
      "[('Chewbacca', 'R2-D2'), ('C-3Po', 'R2-D2'), ('Beru', 'R2-D2'), ('Luke', 'R2-D2'), ('Owen', 'R2-D2'), ('Obi-Wan', 'R2-D2'), ('Leia', 'R2-D2'), ('Biggs', 'R2-D2'), ('Han', 'R2-D2'), ('Chewbacca', 'Obi-Wan'), ('C-3Po', 'Chewbacca'), ('Chewbacca', 'Luke'), ('Chewbacca', 'Han'), ('Chewbacca', 'Leia'), ('Camie', 'Luke'), ('Biggs', 'Camie'), ('Biggs', 'Luke'), ('Darth Vader', 'Leia'), ('Beru', 'Luke'), ('Beru', 'Owen'), ('Beru', 'C-3Po'), ('Luke', 'Owen'), ('C-3Po', 'Luke'), ('C-3Po', 'Owen'), ('C-3Po', 'Leia'), ('Leia', 'Luke'), ('Beru', 'Leia'), ('Luke', 'Obi-Wan'), ('C-3Po', 'Obi-Wan'), ('Leia', 'Obi-Wan'), ('Motti', 'Tarkin'), ('Darth Vader', 'Motti'), ('Darth Vader', 'Tarkin'), ('Han', 'Obi-Wan'), ('Han', 'Luke'), ('Greedo', 'Han'), ('Han', 'Jabba'), ('C-3Po', 'Han'), ('Leia', 'Motti'), ('Leia', 'Tarkin'), ('Han', 'Leia'), ('Darth Vader', 'Obi-Wan'), ('Dodonna', 'Gold Leader'), ('Dodonna', 'Wedge'), ('Dodonna', 'Luke'), ('Gold Leader', 'Wedge'), ('Gold Leader', 'Luke'), ('Luke', 'Wedge'), ('Biggs', 'Leia'), ('Leia', 'Red Leader'), ('Luke', 'Red Leader'), ('Biggs', 'Red Leader'), ('Biggs', 'C-3Po'), ('C-3Po', 'Red Leader'), ('Red Leader', 'Wedge'), ('Gold Leader', 'Red Leader'), ('Biggs', 'Wedge'), ('Red Leader', 'Red Ten'), ('Biggs', 'Gold Leader'), ('Luke', 'Red Ten')]\n"
     ]
    }
   ],
   "source": [
    "from episode_4_data import EDGES\n",
    "\n",
    "\n",
    "print(EDGES)"
   ]
  },
  {
   "cell_type": "code",
   "execution_count": null,
   "metadata": {},
   "outputs": [],
   "source": []
  },
  {
   "cell_type": "markdown",
   "metadata": {
    "slideshow": {
     "slide_type": "subslide"
    }
   },
   "source": [
    "The edges can be added to the corresponding vertices via the `add_edge` method."
   ]
  },
  {
   "cell_type": "code",
   "execution_count": 100,
   "metadata": {
    "slideshow": {
     "slide_type": "fragment"
    }
   },
   "outputs": [],
   "source": [
    "for source_vertex, target_vertex in EDGES:\n",
    "    for vertex in vertices:\n",
    "        if vertex.key == source_vertex:\n",
    "            vertex.add_edge(target_vertex)"
   ]
  },
  {
   "cell_type": "code",
   "execution_count": 101,
   "metadata": {
    "slideshow": {
     "slide_type": "fragment"
    }
   },
   "outputs": [
    {
     "name": "stdout",
     "output_type": "stream",
     "text": [
      "R2-D2 -> []\n",
      "Chewbacca -> ['R2-D2', 'Obi-Wan', 'Luke', 'Han', 'Leia']\n",
      "C-3Po -> ['R2-D2', 'Chewbacca', 'Luke', 'Owen', 'Leia', 'Obi-Wan', 'Han', 'Red Leader']\n",
      "Luke -> ['R2-D2', 'Owen', 'Obi-Wan', 'Wedge', 'Red Leader', 'Red Ten']\n",
      "Darth Vader -> ['Leia', 'Motti', 'Tarkin', 'Obi-Wan']\n",
      "Camie -> ['Luke']\n",
      "Biggs -> ['R2-D2', 'Camie', 'Luke', 'Leia', 'Red Leader', 'C-3Po', 'Wedge', 'Gold Leader']\n",
      "Leia -> ['R2-D2', 'Luke', 'Obi-Wan', 'Motti', 'Tarkin', 'Red Leader']\n",
      "Beru -> ['R2-D2', 'Luke', 'Owen', 'C-3Po', 'Leia']\n",
      "Owen -> ['R2-D2']\n",
      "Obi-Wan -> ['R2-D2']\n",
      "Motti -> ['Tarkin']\n",
      "Tarkin -> []\n",
      "Han -> ['R2-D2', 'Obi-Wan', 'Luke', 'Jabba', 'Leia']\n",
      "Greedo -> ['Han']\n",
      "Jabba -> []\n",
      "Dodonna -> ['Gold Leader', 'Wedge', 'Luke']\n",
      "Gold Leader -> ['Wedge', 'Luke', 'Red Leader']\n",
      "Wedge -> []\n",
      "Red Leader -> ['Wedge', 'Red Ten']\n",
      "Red Ten -> []\n",
      "Gold Five -> []\n"
     ]
    }
   ],
   "source": [
    "for vertex in vertices:\n",
    "    print(vertex.key + ' -> ' + str(vertex.edges_to))"
   ]
  },
  {
   "cell_type": "markdown",
   "metadata": {
    "slideshow": {
     "slide_type": "subslide"
    }
   },
   "source": [
    "###### After creation, the edges in memory look like...\n",
    "\n",
    "<img src=\"images/vertices_inst1.png\" alt=\"Drawing\" style=\"width: 500px;\"/>\n",
    "\n",
    "You can find the complete visualization of the above right after creation of vertices and before creation of the edges: https://goo.gl/63DsBn"
   ]
  },
  {
   "cell_type": "markdown",
   "metadata": {
    "slideshow": {
     "slide_type": "subslide"
    }
   },
   "source": [
    "#### Implementing the Graph\n",
    "\n",
    "Nice! Now, we are representing vertices via it's proper ADT class and edges via adjacency lists in the corresponding `Vertex` objects.\n",
    "\n",
    "But so far our code is lacking the graph itself, which is just a collection of vertices."
   ]
  },
  {
   "cell_type": "code",
   "execution_count": 102,
   "metadata": {
    "slideshow": {
     "slide_type": "subslide"
    }
   },
   "outputs": [],
   "source": [
    "class Graph:\n",
    "    def __init__(self):\n",
    "        self.vertices = {}\n",
    "        self.num_of_vertices = 0\n",
    "\n",
    "    def add_vertex(self, key):\n",
    "        self.num_of_vertices += 1\n",
    "        new_vertex = Vertex(key)\n",
    "        self.vertices[key] = new_vertex\n",
    "        return new_vertex\n",
    "\n",
    "    def add_edge(self, source, target):\n",
    "        self.vertices[source].add_edge(self.vertices[target])"
   ]
  },
  {
   "cell_type": "markdown",
   "metadata": {
    "slideshow": {
     "slide_type": "subslide"
    }
   },
   "source": [
    "#### Instantiating the Graph\n",
    "\n",
    "First we will create all the nodes in the graph and subsequently all the edges."
   ]
  },
  {
   "cell_type": "code",
   "execution_count": 103,
   "metadata": {},
   "outputs": [],
   "source": [
    "episode_4 = Graph()\n",
    "for name in NODE_NAMES:\n",
    "    episode_4.add_vertex(name)"
   ]
  },
  {
   "cell_type": "code",
   "execution_count": 104,
   "metadata": {
    "scrolled": true,
    "slideshow": {
     "slide_type": "fragment"
    }
   },
   "outputs": [
    {
     "name": "stdout",
     "output_type": "stream",
     "text": [
      "<__main__.Graph object at 0x104e21fd0>\n"
     ]
    }
   ],
   "source": [
    "print(episode_4)"
   ]
  },
  {
   "cell_type": "code",
   "execution_count": 105,
   "metadata": {
    "slideshow": {
     "slide_type": "fragment"
    }
   },
   "outputs": [
    {
     "data": {
      "text/plain": [
       "{'Beru': <__main__.Vertex at 0x104ec9a20>,\n",
       " 'Biggs': <__main__.Vertex at 0x104ec9b70>,\n",
       " 'C-3Po': <__main__.Vertex at 0x104ec9f60>,\n",
       " 'Camie': <__main__.Vertex at 0x104ec9ef0>,\n",
       " 'Chewbacca': <__main__.Vertex at 0x104ec9710>,\n",
       " 'Darth Vader': <__main__.Vertex at 0x104ec9eb8>,\n",
       " 'Dodonna': <__main__.Vertex at 0x104ec95c0>,\n",
       " 'Gold Five': <__main__.Vertex at 0x104eff160>,\n",
       " 'Gold Leader': <__main__.Vertex at 0x104ec9390>,\n",
       " 'Greedo': <__main__.Vertex at 0x104ec9550>,\n",
       " 'Han': <__main__.Vertex at 0x104ec9a90>,\n",
       " 'Jabba': <__main__.Vertex at 0x104ec9400>,\n",
       " 'Leia': <__main__.Vertex at 0x104ec97f0>,\n",
       " 'Luke': <__main__.Vertex at 0x104ec9940>,\n",
       " 'Motti': <__main__.Vertex at 0x104ec9b00>,\n",
       " 'Obi-Wan': <__main__.Vertex at 0x104ec9320>,\n",
       " 'Owen': <__main__.Vertex at 0x104ec9780>,\n",
       " 'R2-D2': <__main__.Vertex at 0x104e213c8>,\n",
       " 'Red Leader': <__main__.Vertex at 0x104eff1d0>,\n",
       " 'Red Ten': <__main__.Vertex at 0x104eff208>,\n",
       " 'Tarkin': <__main__.Vertex at 0x104ec9860>,\n",
       " 'Wedge': <__main__.Vertex at 0x104eff128>}"
      ]
     },
     "execution_count": 105,
     "metadata": {},
     "output_type": "execute_result"
    }
   ],
   "source": [
    "episode_4.vertices"
   ]
  },
  {
   "cell_type": "code",
   "execution_count": 57,
   "metadata": {},
   "outputs": [],
   "source": [
    "for source, target in EDGES:\n",
    "    episode_4.add_edge(source, target)"
   ]
  },
  {
   "cell_type": "code",
   "execution_count": 58,
   "metadata": {},
   "outputs": [
    {
     "data": {
      "text/plain": [
       "[<__main__.Vertex at 0x104e388d0>,\n",
       " <__main__.Vertex at 0x104e18b38>,\n",
       " <__main__.Vertex at 0x104e2ed30>,\n",
       " <__main__.Vertex at 0x104e18320>,\n",
       " <__main__.Vertex at 0x104e2eb70>]"
      ]
     },
     "execution_count": 58,
     "metadata": {},
     "output_type": "execute_result"
    }
   ],
   "source": [
    "episode_4.vertices['Beru'].edges_to"
   ]
  },
  {
   "cell_type": "markdown",
   "metadata": {
    "slideshow": {
     "slide_type": "subslide"
    }
   },
   "source": [
    "###### Okay, but how does that really look like for the computer?\n",
    "\n",
    "The following is just an excerpt for the object graph for for the Star Wars Episode 4. As you can see there are 22 vertices in total but only four are illustrated.\n",
    "\n",
    "<img src=\"images/graph_vis.png\" alt=\"Drawing\" style=\"width: 500px;\"/>"
   ]
  },
  {
   "cell_type": "markdown",
   "metadata": {
    "slideshow": {
     "slide_type": "subslide"
    }
   },
   "source": [
    "## Exercise!\n",
    "\n",
    "Open the program `graph_for_debugging.py`. Set two breakpoints one on line 30 and another one on line 37. Click with the debugger through the execution of the program and observe in the _Variables_ view on the top left how the `Graph` object is built up.\n",
    "\n",
    "  * What does line 37 do?\n",
    "  ```python\n",
    "for source, target in EDGES:\n",
    "```\n",
    "  * Implement a `print` method in the class `Graph` so that it prints all edges in the following format:\n",
    "  ```\n",
    "(Chewbacca)->(R2-D2)\n",
    "(Chewbacca)->(Obi-Wan)\n",
    "(Chewbacca)->(Luke)\n",
    "(Chewbacca)->(Han)\n",
    "(Chewbacca)->(Leia)\n",
    "(C-3Po)->(R2-D2)\n",
    "(C-3Po)->(Chewbacca)\n",
    "(C-3Po)->(Luke)\n",
    "(C-3Po)->(Owen)\n",
    "```\n",
    "  - _Hint:_ You need to iterate (`for`-loop) over all vertices to have access to their name in the _key_ attribute\n",
    "  - _Hint:_ You need to make use of a nested `for`-loop to iterate over all vertices that this one points to."
   ]
  },
  {
   "cell_type": "code",
   "execution_count": null,
   "metadata": {},
   "outputs": [],
   "source": [
    "def print(self):\n",
    "    for v in self.vertices.values():\n",
    "        for target_vertex in v.edges_to:\n",
    "            print(f'({v.key})->({target_vertex.key})')"
   ]
  },
  {
   "cell_type": "markdown",
   "metadata": {
    "slideshow": {
     "slide_type": "subslide"
    }
   },
   "source": [
    "# Okay, but why?\n",
    "\n",
    "Now, that we have a _Graph_ ADT, why do we actually need this?\n",
    "\n",
    "<div style=\"float:left; width:400px\">\n",
    "    <img src=\"https://c1.staticflickr.com/7/6210/6105306471_e56635863f_b.jpg\" width=\"400px\"/>\n",
    "</div>\n",
    "<div style=\"float:right; width:400px\">\n",
    "    <img src=\"http://www.averagemarrieddad.com/wp-content/uploads/2015/11/Smart-Kid.jpg\" width=\"400px\"/>\n",
    "</div>\n",
    "\n"
   ]
  },
  {
   "cell_type": "markdown",
   "metadata": {
    "slideshow": {
     "slide_type": "slide"
    }
   },
   "source": [
    "## Search Paths or Connections in Graphs\n",
    "\n",
    "One of the most important questions in social networks/graphs is are two nodes connected, e.g., are certain persons friends, colleagues, etc. or are two nodes transitively connected, e.g., do they share a set of friends, are they involved in the same enterprises, etc."
   ]
  },
  {
   "cell_type": "markdown",
   "metadata": {
    "slideshow": {
     "slide_type": "subslide"
    }
   },
   "source": [
    "For example, investigative journalism is in essence finding connections in graphs, see for example the leak of the _Panama Papers_ https://www.icij.org/investigations/panama-papers/."
   ]
  },
  {
   "cell_type": "code",
   "execution_count": 106,
   "metadata": {
    "scrolled": true,
    "slideshow": {
     "slide_type": "subslide"
    }
   },
   "outputs": [
    {
     "data": {
      "text/html": [
       "\n",
       "        <iframe\n",
       "            width=\"100%\"\n",
       "            height=\"500\"\n",
       "            src=\"https://neo4j.com/blog/analyzing-panama-papers-neo4j/\"\n",
       "            frameborder=\"0\"\n",
       "            allowfullscreen\n",
       "        ></iframe>\n",
       "        "
      ],
      "text/plain": [
       "<IPython.lib.display.IFrame at 0x104ec7f60>"
      ]
     },
     "execution_count": 106,
     "metadata": {},
     "output_type": "execute_result"
    }
   ],
   "source": [
    "IFrame('https://neo4j.com/blog/analyzing-panama-papers-neo4j/', width='100%', height=500)"
   ]
  },
  {
   "cell_type": "markdown",
   "metadata": {
    "slideshow": {
     "slide_type": "subslide"
    }
   },
   "source": [
    "### Connected Components\n",
    "\n",
    "Two vertices are _connected_ in a graph when there is a path that begins at one and ends at the other. By convention, every vertex is connected to itself by a path of length zero. A graph is connected when every pair of vertices are connected.\n",
    "\n",
    "\n",
    "A _connected component_ of a graph is a subgraph consisting of some vertex and every node and edge that is connected to that vertex.\n",
    "\n",
    "In the following, you can find an illustration of a connected component -vertices in black- computed from vertex `Biggs`."
   ]
  },
  {
   "cell_type": "code",
   "execution_count": 40,
   "metadata": {
    "scrolled": true,
    "slideshow": {
     "slide_type": "subslide"
    }
   },
   "outputs": [
    {
     "data": {
      "text/html": [
       "\n",
       "        <iframe\n",
       "            width=\"100%\"\n",
       "            height=\"500\"\n",
       "            src=\"plots/tmp_graph16.html\"\n",
       "            frameborder=\"0\"\n",
       "            allowfullscreen\n",
       "        ></iframe>\n",
       "        "
      ],
      "text/plain": [
       "<IPython.lib.display.IFrame at 0x104e30780>"
      ]
     },
     "execution_count": 40,
     "metadata": {},
     "output_type": "execute_result"
    }
   ],
   "source": [
    "IFrame('plots/tmp_graph16.html', width='100%', height=500) "
   ]
  },
  {
   "cell_type": "markdown",
   "metadata": {
    "slideshow": {
     "slide_type": "subslide"
    }
   },
   "source": [
    "#### How can a program find a connected component?\n",
    "\n",
    "In essence we have to do a _breadth-first search_ starting from a certain vertex."
   ]
  },
  {
   "cell_type": "code",
   "execution_count": 53,
   "metadata": {
    "scrolled": false
   },
   "outputs": [
    {
     "data": {
      "text/html": [
       "\n",
       "        <iframe\n",
       "            width=\"100%\"\n",
       "            height=\"500\"\n",
       "            src=\"plots/tmp_graph0.html\"\n",
       "            frameborder=\"0\"\n",
       "            allowfullscreen\n",
       "        ></iframe>\n",
       "        "
      ],
      "text/plain": [
       "<IPython.lib.display.IFrame at 0x104e25470>"
      ]
     },
     "execution_count": 53,
     "metadata": {},
     "output_type": "execute_result"
    }
   ],
   "source": [
    "IFrame('plots/tmp_graph0.html', width='100%', height=500) "
   ]
  },
  {
   "cell_type": "markdown",
   "metadata": {
    "slideshow": {
     "slide_type": "subslide"
    }
   },
   "source": [
    "Let's say we start at a vertex -here `Biggs`, which is marked in black- and collect all nodes that are reachable via outgoing edges, which are those in gray, `R2-D2`, `Camie`, `Luke`, `Leia`, `Red Leader`, `C-3Po`, `Wedge`, `Gold Leader`.\n",
    "\n",
    "We put all of these vertices, i.e., those vertices that we want to visit next, on a `Queue`. As soon as we are done _inspecting_ a vertex we are `dequeue`ing it and mark it as visited.\n",
    "\n",
    "We do that as long as there are vertices on that `Queue`. As soon as it is empty we know that there are now more noeds that we can visit via an outgoing edge.\n",
    "\n",
    "That is a _breadth-first search_."
   ]
  },
  {
   "cell_type": "code",
   "execution_count": null,
   "metadata": {
    "slideshow": {
     "slide_type": "subslide"
    }
   },
   "outputs": [],
   "source": [
    "\n",
    "    def bfs_connected_component(self, start_vertex):\n",
    "        visit_queue = Queue()\n",
    "        visit_queue.enqueue(start_vertex)\n",
    "        while not visit_queue.is_empty():\n",
    "            current_vertex = visit_queue.dequeue()\n",
    "            target_vertex = self.vertices[current_vertex.key].edges_to\n",
    "            for neighbor in target_vertex:\n",
    "                if neighbor.get_color() == 'white':\n",
    "                    neighbor.set_color('gray')\n",
    "                    visit_queue.enqueue(neighbor)\n",
    "            current_vertex.set_color('black')\n"
   ]
  },
  {
   "cell_type": "markdown",
   "metadata": {
    "slideshow": {
     "slide_type": "subslide"
    }
   },
   "source": [
    "## Exercise!\n",
    "\n",
    "Open the program `bfs_connected_components.py`. Set a breakpoint on line 74 and click with the debugger through the execution of the program. Observe in the _Variables_ view on the top left how the `visit_queue` stores the nodes that are next to be visited.\n",
    "\n",
    "\n",
    "Additionally, if you want to you can run the program from the command-line with an argument, which tells the program to save an illustration of the visited and enqueued vertices per iteration of the while loop.\n",
    "\n",
    "Run it with the following command. **OBS:** This will open many new tabs in your browser.\n",
    "\n",
    "\n",
    "```bash\n",
    "$ python bfs_connected_components.py plot_steps\n",
    "```\n"
   ]
  },
  {
   "cell_type": "markdown",
   "metadata": {
    "slideshow": {
     "slide_type": "subslide"
    }
   },
   "source": [
    "#### What do we know now?\n",
    "\n",
    "We have now an algorithm than can compute all the nodes, which we can reach from certain node. You can use that for example to find new friends in a social network."
   ]
  },
  {
   "cell_type": "markdown",
   "metadata": {
    "slideshow": {
     "slide_type": "subslide"
    }
   },
   "source": [
    "### Finding Paths\n",
    "\n",
    "When modifying the algorithm which find connected components with breadth first search (BFS) a tiny bit, we can not only find connected components but also all paths which connect two nodes.\n",
    "\n",
    "In essence, we have to put lists on the `Queue` so that we can store visited nodes in them."
   ]
  },
  {
   "cell_type": "code",
   "execution_count": null,
   "metadata": {},
   "outputs": [],
   "source": [
    "    # finds shortest path between 2 nodes of a graph using BFS\n",
    "    def bfs_shortest_path(self, start_vertex, goal_vertex):\n",
    "        # keep track of all the paths to be checked\n",
    "        paths_queue = Queue()\n",
    "        paths_queue.enqueue([start_vertex])\n",
    "        # return path if start is goal\n",
    "        if start_vertex == goal_vertex:\n",
    "            return [repr(start_vertex)]\n",
    "        # keeps looping until all possible paths have been checked\n",
    "        while not paths_queue.is_empty():\n",
    "            # pop the first path from the queue\n",
    "            path = paths_queue.dequeue()\n",
    "            # get the last node from the path\n",
    "            node = path[-1]\n",
    "            if node.get_color() == 'white':\n",
    "                neighbors = node.edges_to\n",
    "                # go through all neighbor nodes, construct a new path and\n",
    "                # push it into the queue\n",
    "                for neighbor in neighbors:\n",
    "                    # We have to create a new copy of the path list\n",
    "                    new_path = list(path)\n",
    "                    new_path.append(neighbor)\n",
    "                    paths_queue.enqueue(new_path)\n",
    "                    # return path if neighbor is goal\n",
    "                    if neighbor == goal_vertex:\n",
    "                        return new_path\n",
    "                # mark node as explored\n",
    "                node.set_color('black')\n",
    "        # in case there's no path between the 2 nodes\n",
    "        return []"
   ]
  },
  {
   "cell_type": "markdown",
   "metadata": {
    "slideshow": {
     "slide_type": "subslide"
    }
   },
   "source": [
    "## Exercise!\n",
    "\n",
    "Open the program `bfs_connected_components.py`. Set a breakpoint on line 105 and click with the debugger through the execution of the program. Observe in the _Variables_ view on the top left how the `paths_queue` stores lists of nodes that were visited."
   ]
  },
  {
   "cell_type": "markdown",
   "metadata": {
    "slideshow": {
     "slide_type": "subslide"
    }
   },
   "source": [
    "#### References\n",
    "\n",
    "These notes are based on:  \n",
    "\n",
    "  * E. Lehman, F. T. Leighton, A. R. Meyer, _Mathematics for Computer Science_, https://courses.csail.mit.edu/6.042/spring17/mcs.pdf\n",
    "  * B. Miller and D. Ranum, _Problem Solving with Algorithms and Data Structures_, http://interactivepython.org/runestone/static/pythonds/Graphs/toctree.html\n",
    "  * https://www.python.org/doc/essays/graphs/"
   ]
  }
 ],
 "metadata": {
  "celltoolbar": "Slideshow",
  "kernelspec": {
   "display_name": "Python 3",
   "language": "python",
   "name": "python3"
  },
  "language_info": {
   "codemirror_mode": {
    "name": "ipython",
    "version": 3
   },
   "file_extension": ".py",
   "mimetype": "text/x-python",
   "name": "python",
   "nbconvert_exporter": "python",
   "pygments_lexer": "ipython3",
   "version": "3.6.4"
  }
 },
 "nbformat": 4,
 "nbformat_minor": 2
}
