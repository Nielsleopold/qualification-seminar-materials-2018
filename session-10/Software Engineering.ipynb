{
 "cells": [
  {
   "cell_type": "markdown",
   "metadata": {
    "slideshow": {
     "slide_type": "slide"
    }
   },
   "source": [
    "# Why do all good things come to an end?\n",
    "\n",
    "\n",
    "  > Flames to dust\n",
    "  >\n",
    "  > Lovers to friends\n",
    "  >\n",
    "  > Why do all good things come to an end?\n",
    "  >\n",
    "  > Nelly Furtado, https://www.youtube.com/watch?v=4pBo-GL9SRg"
   ]
  },
  {
   "cell_type": "markdown",
   "metadata": {
    "slideshow": {
     "slide_type": "subslide"
    }
   },
   "source": [
    "# Do they?\n",
    "\n",
    "Remember how we started?\n",
    "\n",
    "```python\n",
    "import re\n",
    "import random\n",
    "import eliza_language as lang\n",
    "\n",
    "\n",
    "def reflect(fragment):\n",
    "    tokens = fragment.lower().split()\n",
    "    for i, token in enumerate(tokens):\n",
    "        if token in lang.REFLECTIONS:\n",
    "            tokens[i] = lang.REFLECTIONS[token]\n",
    "    return ' '.join(tokens)\n",
    "\n",
    "\n",
    "def analyze(statement):\n",
    "    for pattern, responses in lang.PSYCHOBABBLE:\n",
    "        match = re.match(pattern, statement.rstrip(\".!\"))\n",
    "        if match:\n",
    "            response = random.choice(responses)\n",
    "            return response.format(*[reflect(g) for g in match.groups()])\n",
    "\n",
    "\n",
    "def talk_to_me():\n",
    "    print(\"Hello. How are you feeling today?\")\n",
    "\n",
    "    while True:\n",
    "        statement = input(\"> \")\n",
    "        print(analyze(statement))\n",
    "```"
   ]
  },
  {
   "cell_type": "markdown",
   "metadata": {
    "slideshow": {
     "slide_type": "slide"
    }
   },
   "source": [
    "# A Bit About the Web...\n",
    "\n",
    "![](https://sureshemre.files.wordpress.com/2014/05/synapticnetwork.png)"
   ]
  },
  {
   "cell_type": "markdown",
   "metadata": {
    "slideshow": {
     "slide_type": "slide"
    }
   },
   "source": [
    "# Web Servers\n",
    "\n",
    "  > Web server refers to server software, or hardware dedicated to running said software, that can serve contents to the World Wide Web. A web server processes incoming network requests over the HTTP protocol (and several other related protocols).\n",
    "  >\n",
    "  > https://en.wikipedia.org/wiki/Web_server"
   ]
  },
  {
   "cell_type": "markdown",
   "metadata": {
    "slideshow": {
     "slide_type": "subslide"
    }
   },
   "source": [
    "# Computers have adresses too!\n",
    "\n",
    "\n",
    "<img src=\"https://cdn.britannica.com/700x450/38/30238-004-9DEBEAB7.jpg\" alt=\"Drawing\" style=\"width: 500px;\"/>\n",
    "\n",
    "Just like houses in a street, computers in a network have their own address. These addresses are usually called _IP_ addresses."
   ]
  },
  {
   "cell_type": "markdown",
   "metadata": {
    "slideshow": {
     "slide_type": "subslide"
    }
   },
   "source": [
    "<img src=\"http://www.certblaster.com/wp-content/uploads/2016/10/NAT-1024x677.png\" alt=\"Drawing\" style=\"width: 500px;\"/>"
   ]
  },
  {
   "cell_type": "markdown",
   "metadata": {
    "slideshow": {
     "slide_type": "subslide"
    }
   },
   "source": [
    "\n",
    "<img src=\"images/postnumre.png\" alt=\"Drawing\" style=\"width: 500px;\"/>\n",
    "https://github.com/ok-dk/dagi/blob/master/geojson/postnumre.geojson"
   ]
  },
  {
   "cell_type": "markdown",
   "metadata": {
    "slideshow": {
     "slide_type": "subslide"
    }
   },
   "source": [
    "## What is my IP Address?\n",
    "\n",
    "You can find your computer's externally visible IP address in Python with the help of the `socket` module."
   ]
  },
  {
   "cell_type": "code",
   "execution_count": 10,
   "metadata": {
    "slideshow": {
     "slide_type": "fragment"
    }
   },
   "outputs": [
    {
     "name": "stdout",
     "output_type": "stream",
     "text": [
      "My computer's name:       Willybee.local\n",
      "My computer's IP address: 10.28.41.71\n"
     ]
    }
   ],
   "source": [
    "import socket\n",
    "\n",
    "\n",
    "host_name = socket.gethostname()\n",
    "ip_address = socket.gethostbyname(host_name)\n",
    "\n",
    "print(f\"My computer's name:       {host_name}\")\n",
    "print(f\"My computer's IP address: {ip_address}\")"
   ]
  },
  {
   "cell_type": "markdown",
   "metadata": {
    "slideshow": {
     "slide_type": "subslide"
    }
   },
   "source": [
    "## How can I make my computer a webserver?\n",
    "\n",
    "Using the `flask` module, see http://flask.pocoo.org, you can create a simple webserver as in the following:\n",
    "\n",
    "```python\n",
    "from flask import Flask\n",
    "\n",
    "app = Flask(__name__)\n",
    "\n",
    "@app.route(\"/\")\n",
    "def hello():\n",
    "    return 'Hello World!'\n",
    "\n",
    "if __name__ == '__main__':\n",
    "    app.run()\n",
    "```"
   ]
  },
  {
   "cell_type": "markdown",
   "metadata": {
    "slideshow": {
     "slide_type": "subslide"
    }
   },
   "source": [
    "Type in the above program and run it as usual via the console: `$ python simple_server.py`.\n",
    "\n",
    "Now, open your browser and point it to the address: http://127.0.0.1:5000/ you should see a hello world message. \n",
    "\n",
    "<img src=\"images/hello_world_server.png\" alt=\"Drawing\" style=\"width: 500px;\"/>"
   ]
  },
  {
   "cell_type": "markdown",
   "metadata": {
    "slideshow": {
     "slide_type": "subslide"
    }
   },
   "source": [
    "### What is the code doing?\n",
    "\n",
    "\n",
    "```python\n",
    "from flask import Flask\n",
    "\n",
    "\n",
    "app = Flask(__name__)\n",
    "\n",
    "@app.route(\"/\")\n",
    "def hello():\n",
    "    return 'Hello World!'\n",
    "\n",
    "\n",
    "if __name__ == '__main__':\n",
    "    app.run()\n",
    "```"
   ]
  },
  {
   "cell_type": "markdown",
   "metadata": {
    "slideshow": {
     "slide_type": "subslide"
    }
   },
   "source": [
    "### What was going on here?\n",
    "\n",
    "The IP address `127.0.0.1` usually points to your own machine. Imagine it as a network wire connecting your computer to itself.\n",
    "\n",
    "<img src=\"https://dudes.berrydejager.com/wp-content/uploads/2014/12/IMG_8846.jpg\" alt=\"Drawing\" style=\"width: 500px;\"/>\n",
    "\n",
    "That is, you are now running a webserver `simple_server.py` and a client -your browser- on the same machine. "
   ]
  },
  {
   "cell_type": "markdown",
   "metadata": {
    "slideshow": {
     "slide_type": "subslide"
    }
   },
   "source": [
    "### What does the `:5000` mean?\n",
    "\n",
    "That number is a so called _port number_. You can assign each running program a port to which it listens. That is, port numbers are similar to the names of your family members living under the same address as you do.\n",
    "\n",
    "The default port that Flask assigns a webserver on startup is `5000`. That is, `5000` is the `John Doe` in the world of Flask. The standard port for webservers is usually `80`."
   ]
  },
  {
   "cell_type": "markdown",
   "metadata": {
    "slideshow": {
     "slide_type": "subslide"
    }
   },
   "source": [
    "## But how can I connect to another computer?\n",
    "\n",
    "You have to know it's address! During this session the IP address of my computer is:  "
   ]
  },
  {
   "cell_type": "code",
   "execution_count": 2,
   "metadata": {
    "slideshow": {
     "slide_type": "fragment"
    }
   },
   "outputs": [
    {
     "name": "stdout",
     "output_type": "stream",
     "text": [
      "Helge's computer's IP address: 192.168.1.6\n"
     ]
    }
   ],
   "source": [
    "import socket\n",
    "\n",
    "\n",
    "host_name = socket.gethostname()\n",
    "ip_address = socket.gethostbyname(host_name)\n",
    "\n",
    "print(f\"Helge's computer's IP address: {ip_address}\")"
   ]
  },
  {
   "cell_type": "markdown",
   "metadata": {
    "slideshow": {
     "slide_type": "subslide"
    }
   },
   "source": [
    "Now, I am starting a webserver on my computer.\n",
    "That is, during this session you should be able to access webpages via the following links:\n",
    "\n",
    "\n",
    "  * http://165.227.144.106:5000\n",
    "  * http://165.227.144.106:5000/index.html\n",
    "  * http://165.227.144.106:5000/image\n",
    "  * http://165.227.144.106:5000/complete\n",
    "  * http://165.227.144.106:5000/hello_from\n",
    "\n",
    "<img src=\"images/helge_hello_world_server.png\" alt=\"Drawing\" style=\"width: 500px;\"/>"
   ]
  },
  {
   "cell_type": "markdown",
   "metadata": {
    "slideshow": {
     "slide_type": "subslide"
    }
   },
   "source": [
    "## How does that work?\n",
    "\n",
    "I started the following program, which you can find under https://github.itu.dk/itu-summer/qualification-seminar-materials-2018/session-10/simple_web_server/server.py Note, I started the server on address `0.0.0.0`, which means that the server is publicly accessible to other computers in the network.\n",
    "\n",
    "\n",
    "```python\n",
    "import socket\n",
    "from flask import Flask, render_template, send_from_directory\n",
    "\n",
    "\n",
    "app = Flask(__name__, static_url_path='')\n",
    "\n",
    "\n",
    "@app.route('/')\n",
    "@app.route('/index')\n",
    "def index():\n",
    "    return app.send_static_file('index.html')\n",
    "\n",
    "\n",
    "@app.route('/image')\n",
    "def serve_file():\n",
    "    return send_from_directory('./static', 'commander_keen.png')\n",
    "```\n"
   ]
  },
  {
   "cell_type": "markdown",
   "metadata": {
    "slideshow": {
     "slide_type": "subslide"
    }
   },
   "source": [
    "```python\n",
    "@app.route('/complete')\n",
    "def complete():\n",
    "    return app.send_static_file('index_img.html')\n",
    "\n",
    "\n",
    "@app.route('/hello_from')\n",
    "def hello_from():\n",
    "    host_name = socket.gethostname()\n",
    "    return render_template('hello_from.html', hostname=host_name,\n",
    "                           hostip=socket.gethostbyname(host_name))\n",
    "\n",
    "\n",
    "if __name__ == '__main__':\n",
    "    # app.run(host='127.0.0.1', debug=True)\n",
    "    app.run(host='0.0.0.0', debug=True)\n",
    "```\n"
   ]
  },
  {
   "cell_type": "markdown",
   "metadata": {
    "slideshow": {
     "slide_type": "slide"
    }
   },
   "source": [
    "## Okay, but how does the homepage come from your computer to my computer?\n",
    "\n",
    "We can observe which data is pushed over a network connection with a tool such as `tcpdump`\n",
    "\n",
    "```\n",
    "$ sudo tcpdump -i en0 -A -X port 5000\n",
    "```\n",
    "\n",
    "On your computer you might want to exchange the interface `lo0` with the proper network card, such as `eth0`.\n",
    "\n",
    "TCPDump outputs something as in the following. What can you see in the decoded communication?\n",
    "\n",
    "```\n",
    "tcpdump: verbose output suppressed, use -v or -vv for full protocol decode\n",
    "listening on en0, link-type EN10MB (Ethernet), capture size 262144 bytes\n",
    "15:45:01.875739 IP 192.168.1.7.59262 > 192.168.1.5.commplex-main: Flags [S], seq 1613904668, win 65535, options [mss 1460,nop,wscale 5,nop,nop,TS val 832137774 ecr 0,sackOK,eol], length 0\n",
    "\t0x0000:  4500 0040 3807 4000 4006 7f54 c0a8 0107  E..@8.@.@..T....\n",
    "\t0x0010:  c0a8 0105 e77e 1388 6032 3b1c 0000 0000  .....~..`2;.....\n",
    "\t0x0020:  b002 ffff 8183 0000 0204 05b4 0103 0305  ................\n",
    "\t0x0030:  0101 080a 3199 6a2e 0000 0000 0402 0000  ....1.j.........\n",
    "15:45:01.875959 IP 192.168.1.5.commplex-main > 192.168.1.7.59262: Flags [S.], seq 844964579, ack 1613904669, win 65535, options [mss 1460,nop,wscale 5,nop,nop,TS val 897311747 ecr 832137774,sackOK,eol], length 0\n",
    "\t0x0000:  4500 0040 208e 4000 4006 96cd c0a8 0105  E..@..@.@.......\n",
    "\t0x0010:  c0a8 0107 1388 e77e 325d 22e3 6032 3b1d  .......~2]\".`2;.\n",
    "\t0x0020:  b012 ffff 12b3 0000 0204 05b4 0103 0305  ................\n",
    "\t0x0030:  0101 080a 357b e403 3199 6a2e 0402 0000  ....5{..1.j.....\n",
    "15:45:01.896707 IP 192.168.1.7.59262 > 192.168.1.5.commplex-main: Flags [.], ack 1, win 4117, options [nop,nop,TS val 832137806 ecr 897311747], length 0\n",
    "\t0x0000:  4500 0034 fbb4 4000 4006 bbb2 c0a8 0107  E..4..@.@.......\n",
    "\t0x0010:  c0a8 0105 e77e 1388 6032 3b1d 325d 22e4  .....~..`2;.2]\".\n",
    "\t0x0020:  8010 1015 424d 0000 0101 080a 3199 6a4e  ....BM......1.jN\n",
    "\t0x0030:  357b e403                                5{..\n",
    "15:45:01.896713 IP 192.168.1.7.59262 > 192.168.1.5.commplex-main: Flags [P.], seq 1:381, ack 1, win 4117, options [nop,nop,TS val 832137808 ecr 897311747], length 380\n",
    "\t0x0000:  4500 01b0 3fcf 4000 4006 761c c0a8 0107  E...?.@.@.v.....\n",
    "\t0x0010:  c0a8 0105 e77e 1388 6032 3b1d 325d 22e4  .....~..`2;.2]\".\n",
    "\t0x0020:  8018 1015 ccb1 0000 0101 080a 3199 6a50  ............1.jP\n",
    "\t0x0030:  357b e403 4745 5420 2f20 4854 5450 2f31  5{..GET./.HTTP/1\n",
    "\t0x0040:  2e31 0d0a 486f 7374 3a20 3139 322e 3136  .1..Host:.192.16\n",
    "\t0x0050:  382e 312e 353a 3530 3030 0d0a 5570 6772  8.1.5:5000..Upgr\n",
    "\t0x0060:  6164 652d 496e 7365 6375 7265 2d52 6571  ade-Insecure-Req\n",
    "\t0x0070:  7565 7374 733a 2031 0d0a 4163 6365 7074  uests:.1..Accept\n",
    "\t0x0080:  3a20 7465 7874 2f68 746d 6c2c 6170 706c  :.text/html,appl\n",
    "\t0x0090:  6963 6174 696f 6e2f 7868 746d 6c2b 786d  ication/xhtml+xm\n",
    "\t0x00a0:  6c2c 6170 706c 6963 6174 696f 6e2f 786d  l,application/xm\n",
    "\t0x00b0:  6c3b 713d 302e 392c 2a2f 2a3b 713d 302e  l;q=0.9,*/*;q=0.\n",
    "\t0x00c0:  380d 0a55 7365 722d 4167 656e 743a 204d  8..User-Agent:.M\n",
    "\t0x00d0:  6f7a 696c 6c61 2f35 2e30 2028 6950 686f  ozilla/5.0.(iPho\n",
    "\t0x00e0:  6e65 3b20 4350 5520 6950 686f 6e65 204f  ne;.CPU.iPhone.O\n",
    "\t0x00f0:  5320 3130 5f33 5f33 206c 696b 6520 4d61  S.10_3_3.like.Ma\n",
    "\t0x0100:  6320 4f53 2058 2920 4170 706c 6557 6562  c.OS.X).AppleWeb\n",
    "\t0x0110:  4b69 742f 3630 332e 332e 3820 284b 4854  Kit/603.3.8.(KHT\n",
    "\t0x0120:  4d4c 2c20 6c69 6b65 2047 6563 6b6f 2920  ML,.like.Gecko).\n",
    "\t0x0130:  4678 694f 532f 3131 2e31 6231 3033 3737  FxiOS/11.1b10377\n",
    "\t0x0140:  204d 6f62 696c 652f 3134 4736 3020 5361  .Mobile/14G60.Sa\n",
    "\t0x0150:  6661 7269 2f36 3033 2e33 2e38 0d0a 4163  fari/603.3.8..Ac\n",
    "\t0x0160:  6365 7074 2d4c 616e 6775 6167 653a 2065  cept-Language:.e\n",
    "\t0x0170:  6e2d 7573 0d0a 4163 6365 7074 2d45 6e63  n-us..Accept-Enc\n",
    "\t0x0180:  6f64 696e 673a 2067 7a69 702c 2064 6566  oding:.gzip,.def\n",
    "\t0x0190:  6c61 7465 0d0a 436f 6e6e 6563 7469 6f6e  late..Connection\n",
    "\t0x01a0:  3a20 6b65 6570 2d61 6c69 7665 0d0a 0d0a  :.keep-alive....\n",
    "15:45:01.896799 IP 192.168.1.5.commplex-main > 192.168.1.7.59262: Flags [.], ack 1, win 4117, options [nop,nop,TS val 897311767 ecr 832137806], length 0\n",
    "\t0x0000:  4500 0034 5990 4000 4006 5dd7 c0a8 0105  E..4Y.@.@.].....\n",
    "\t0x0010:  c0a8 0107 1388 e77e 325d 22e4 6032 3b1d  .......~2]\".`2;.\n",
    "\t0x0020:  8010 1015 4239 0000 0101 080a 357b e417  ....B9......5{..\n",
    "\t0x0030:  3199 6a4e                                1.jN\n",
    "15:45:01.896800 IP 192.168.1.5.commplex-main > 192.168.1.7.59262: Flags [.], ack 381, win 4105, options [nop,nop,TS val 897311767 ecr 832137808], length 0\n",
    "\t0x0000:  4500 0034 a43e 4000 4006 1329 c0a8 0105  E..4.>@.@..)....\n",
    "\t0x0010:  c0a8 0107 1388 e77e 325d 22e4 6032 3c99  .......~2]\".`2<.\n",
    "\t0x0020:  8010 1009 40c7 0000 0101 080a 357b e417  ....@.......5{..\n",
    "\t0x0030:  3199 6a50                                1.jP\n",
    "15:45:01.898661 IP 192.168.1.5.commplex-main > 192.168.1.7.59262: Flags [P.], seq 1:18, ack 381, win 4105, options [nop,nop,TS val 897311768 ecr 832137808], length 17\n",
    "\t0x0000:  4500 0045 6be1 4000 4006 4b75 c0a8 0105  E..Ek.@.@.Ku....\n",
    "\t0x0010:  c0a8 0107 1388 e77e 325d 22e4 6032 3c99  .......~2]\".`2<.\n",
    "\t0x0020:  8018 1009 80e8 0000 0101 080a 357b e418  ............5{..\n",
    "\t0x0030:  3199 6a50 4854 5450 2f31 2e30 2032 3030  1.jPHTTP/1.0.200\n",
    "\t0x0040:  204f 4b0d 0a                             .OK..\n",
    "15:45:01.898818 IP 192.168.1.5.commplex-main > 192.168.1.7.59262: Flags [FP.], seq 18:473, ack 381, win 4105, options [nop,nop,TS val 897311768 ecr 832137808], length 455\n",
    "\t0x0000:  4500 01fb 9ec4 4000 4006 16dc c0a8 0105  E.....@.@.......\n",
    "\t0x0010:  c0a8 0107 1388 e77e 325d 22f5 6032 3c99  .......~2]\".`2<.\n",
    "\t0x0020:  8019 1009 6fbb 0000 0101 080a 357b e418  ....o.......5{..\n",
    "\t0x0030:  3199 6a50 436f 6e74 656e 742d 4c65 6e67  1.jPContent-Leng\n",
    "\t0x0040:  7468 3a20 3133 370d 0a43 6f6e 7465 6e74  th:.137..Content\n",
    "\t0x0050:  2d54 7970 653a 2074 6578 742f 6874 6d6c  -Type:.text/html\n",
    "\t0x0060:  3b20 6368 6172 7365 743d 7574 662d 380d  ;.charset=utf-8.\n",
    "\t0x0070:  0a4c 6173 742d 4d6f 6469 6669 6564 3a20  .Last-Modified:.\n",
    "\t0x0080:  5765 642c 2033 3020 4d61 7920 3230 3138  Wed,.30.May.2018\n",
    "\t0x0090:  2031 353a 3130 3a33 3820 474d 540d 0a43  .15:10:38.GMT..C\n",
    "\t0x00a0:  6163 6865 2d43 6f6e 7472 6f6c 3a20 7075  ache-Control:.pu\n",
    "\t0x00b0:  626c 6963 2c20 6d61 782d 6167 653d 3433  blic,.max-age=43\n",
    "\t0x00c0:  3230 300d 0a45 7870 6972 6573 3a20 5475  200..Expires:.Tu\n",
    "\t0x00d0:  652c 2030 3520 4a75 6e20 3230 3138 2030  e,.05.Jun.2018.0\n",
    "\t0x00e0:  313a 3435 3a30 3120 474d 540d 0a45 5461  1:45:01.GMT..ETa\n",
    "\t0x00f0:  673a 2022 3135 3237 3639 3330 3338 2e30  g:.\"1527693038.0\n",
    "\t0x0100:  2d31 3337 2d34 3932 3630 3238 220d 0a44  -137-4926028\"..D\n",
    "\t0x0110:  6174 653a 204d 6f6e 2c20 3034 204a 756e  ate:.Mon,.04.Jun\n",
    "\t0x0120:  2032 3031 3820 3133 3a34 353a 3031 2047  .2018.13:45:01.G\n",
    "\t0x0130:  4d54 0d0a 4163 6365 7074 2d52 616e 6765  MT..Accept-Range\n",
    "\t0x0140:  733a 2062 7974 6573 0d0a 5365 7276 6572  s:.bytes..Server\n",
    "\t0x0150:  3a20 5765 726b 7a65 7567 2f30 2e31 342e  :.Werkzeug/0.14.\n",
    "\t0x0160:  3120 5079 7468 6f6e 2f33 2e36 2e34 0d0a  1.Python/3.6.4..\n",
    "\t0x0170:  0d0a 3c21 444f 4354 5950 4520 6874 6d6c  ..<!DOCTYPE.html\n",
    "\t0x0180:  3e0a 3c68 746d 6c3e 0a3c 6865 6164 3e0a  >.<html>.<head>.\n",
    "\t0x0190:  3c74 6974 6c65 3e48 656c 6c6f 2057 6f72  <title>Hello.Wor\n",
    "\t0x01a0:  6c64 213c 2f74 6974 6c65 3e0a 3c2f 6865  ld!</title>.</he\n",
    "\t0x01b0:  6164 3e0a 3c62 6f64 793e 0a3c 6831 3e48  ad>.<body>.<h1>H\n",
    "\t0x01c0:  656c 6c6f 2057 6f72 6c64 213c 2f68 313e  ello.World!</h1>\n",
    "\t0x01d0:  0a59 6f75 2061 7265 2065 7874 7265 6d65  .You.are.extreme\n",
    "\t0x01e0:  6c79 2077 656c 636f 6d65 210a 3c2f 626f  ly.welcome!.</bo\n",
    "\t0x01f0:  6479 3e0a 3c2f 6874 6d6c 3e              dy>.</html>\n",
    "15:45:01.907712 IP 192.168.1.7.59262 > 192.168.1.5.commplex-main: Flags [.], ack 18, win 4117, options [nop,nop,TS val 832137812 ecr 897311768], length 0\n",
    "\t0x0000:  4500 0034 edd5 4000 4006 c991 c0a8 0107  E..4..@.@.......\n",
    "\t0x0010:  c0a8 0105 e77e 1388 6032 3c99 325d 22f5  .....~..`2<.2]\".\n",
    "\t0x0020:  8010 1015 40a5 0000 0101 080a 3199 6a54  ....@.......1.jT\n",
    "\t0x0030:  357b e418                                5{..\n",
    "15:45:01.907717 IP 192.168.1.7.59262 > 192.168.1.5.commplex-main: Flags [.], ack 474, win 4103, options [nop,nop,TS val 832137812 ecr 897311768], length 0\n",
    "\t0x0000:  4500 0034 512c 4000 4006 663b c0a8 0107  E..4Q,@.@.f;....\n",
    "\t0x0010:  c0a8 0105 e77e 1388 6032 3c99 325d 24bd  .....~..`2<.2]$.\n",
    "\t0x0020:  8010 1007 3eeb 0000 0101 080a 3199 6a54  ....>.......1.jT\n",
    "\t0x0030:  357b e418                                5{..\n",
    "15:45:01.907718 IP 192.168.1.7.59262 > 192.168.1.5.commplex-main: Flags [F.], seq 381, ack 474, win 4103, options [nop,nop,TS val 832137813 ecr 897311768], length 0\n",
    "\t0x0000:  4500 0034 1d85 4000 4006 99e2 c0a8 0107  E..4..@.@.......\n",
    "\t0x0010:  c0a8 0105 e77e 1388 6032 3c99 325d 24bd  .....~..`2<.2]$.\n",
    "\t0x0020:  8011 1007 3ee9 0000 0101 080a 3199 6a55  ....>.......1.jU\n",
    "\t0x0030:  357b e418                                5{..\n",
    "15:45:01.907807 IP 192.168.1.5.commplex-main > 192.168.1.7.59262: Flags [F.], seq 473, ack 381, win 4105, options [nop,nop,TS val 897311777 ecr 832137812], length 0\n",
    "\t0x0000:  4500 0034 4fb6 4000 4006 67b1 c0a8 0105  E..4O.@.@.g.....\n",
    "\t0x0010:  c0a8 0107 1388 e77e 325d 24bc 6032 3c99  .......~2]$.`2<.\n",
    "\t0x0020:  8011 1009 3ee0 0000 0101 080a 357b e421  ....>.......5{.!\n",
    "\t0x0030:  3199 6a54                                1.jT\n",
    "15:45:01.907808 IP 192.168.1.5.commplex-main > 192.168.1.7.59262: Flags [.], ack 381, win 4105, options [nop,nop,TS val 897311777 ecr 832137812], length 0\n",
    "\t0x0000:  4500 0034 8d65 4000 4006 2a02 c0a8 0105  E..4.e@.@.*.....\n",
    "\t0x0010:  c0a8 0107 1388 e77e 325d 24bd 6032 3c99  .......~2]$.`2<.\n",
    "\t0x0020:  8010 1009 3ee0 0000 0101 080a 357b e421  ....>.......5{.!\n",
    "\t0x0030:  3199 6a54                                1.jT\n",
    "15:45:01.907882 IP 192.168.1.5.commplex-main > 192.168.1.7.59262: Flags [.], ack 382, win 4105, options [nop,nop,TS val 897311777 ecr 832137813], length 0\n",
    "\t0x0000:  4500 0034 7cf5 4000 4006 3a72 c0a8 0105  E..4|.@.@.:r....\n",
    "\t0x0010:  c0a8 0107 1388 e77e 325d 24bd 6032 3c9a  .......~2]$.`2<.\n",
    "\t0x0020:  8010 1009 3ede 0000 0101 080a 357b e421  ....>.......5{.!\n",
    "\t0x0030:  3199 6a55                                1.jU\n",
    "15:45:01.953954 IP 192.168.1.7.59262 > 192.168.1.5.commplex-main: Flags [F.], seq 381, ack 474, win 4103, options [nop,nop,TS val 832137842 ecr 897311768], length 0\n",
    "\t0x0000:  4500 0034 b080 4000 4006 06e7 c0a8 0107  E..4..@.@.......\n",
    "\t0x0010:  c0a8 0105 e77e 1388 6032 3c99 325d 24bd  .....~..`2<.2]$.\n",
    "\t0x0020:  8011 1007 3ecc 0000 0101 080a 3199 6a72  ....>.......1.jr\n",
    "\t0x0030:  357b e418                                5{..\n",
    "15:45:01.953959 IP 192.168.1.7.59262 > 192.168.1.5.commplex-main: Flags [F.], seq 381, ack 474, win 4103, options [nop,nop,TS val 832137842 ecr 897311777], length 0\n",
    "\t0x0000:  4500 0034 a9b8 4000 4006 0daf c0a8 0107  E..4..@.@.......\n",
    "\t0x0010:  c0a8 0105 e77e 1388 6032 3c99 325d 24bd  .....~..`2<.2]$.\n",
    "\t0x0020:  8011 1007 3ec3 0000 0101 080a 3199 6a72  ....>.......1.jr\n",
    "\t0x0030:  357b e421                                5{.!\n",
    "15:45:01.954027 IP 192.168.1.5.commplex-main > 192.168.1.7.59262: Flags [.], ack 382, win 4105, options [nop,nop,TS val 897311822 ecr 832137813], length 0\n",
    "\t0x0000:  4500 0034 f1db 4000 4006 c58b c0a8 0105  E..4..@.@.......\n",
    "\t0x0010:  c0a8 0107 1388 e77e 325d 24bd 6032 3c9a  .......~2]$.`2<.\n",
    "\t0x0020:  8010 1009 3eb1 0000 0101 080a 357b e44e  ....>.......5{.N\n",
    "\t0x0030:  3199 6a55                                1.jU\n",
    "15:45:01.954028 IP 192.168.1.5.commplex-main > 192.168.1.7.59262: Flags [.], ack 382, win 4105, options [nop,nop,TS val 897311822 ecr 832137813], length 0\n",
    "\t0x0000:  4500 0034 fc6d 4000 4006 baf9 c0a8 0105  E..4.m@.@.......\n",
    "\t0x0010:  c0a8 0107 1388 e77e 325d 24bd 6032 3c9a  .......~2]$.`2<.\n",
    "\t0x0020:  8010 1009 3eb1 0000 0101 080a 357b e44e  ....>.......5{.N\n",
    "\t0x0030:  3199 6a55                                1.jU\n",
    "15:45:02.019874 IP 192.168.1.7.59262 > 192.168.1.5.commplex-main: Flags [R], seq 1613905050, win 0, length 0\n",
    "\t0x0000:  4500 0028 312a 4000 4006 8649 c0a8 0107  E..(1*@.@..I....\n",
    "\t0x0010:  c0a8 0105 e77e 1388 6032 3c9a 0000 0000  .....~..`2<.....\n",
    "\t0x0020:  5004 0000 94b0 0000                      P.......\n",
    "15:45:02.019884 IP 192.168.1.7.59262 > 192.168.1.5.commplex-main: Flags [R], seq 1613905050, win 0, length 0\n",
    "\t0x0000:  4500 0028 532a 4000 4006 6449 c0a8 0107  E..(S*@.@.dI....\n",
    "\t0x0010:  c0a8 0105 e77e 1388 6032 3c9a 0000 0000  .....~..`2<.....\n",
    "\t0x0020:  5004 0000 94b0 0000                      P.......\n",
    "```"
   ]
  },
  {
   "cell_type": "markdown",
   "metadata": {
    "slideshow": {
     "slide_type": "subslide"
    }
   },
   "source": [
    "The communication between our and your computer runs over a protocol with the name _HTTP_, the _Hyper-text Transfer Protocoll_, see https://www.w3.org/History/1989/proposal.html.\n",
    "\n",
    "The protocoll was developed by Tim Berners-Lee at CERN in 1989 and forms the basis of the _Web_ as you know it.\n",
    "\n",
    "![](http://static3.businessinsider.com/image/578f5dfedd0895cb0c8b456e-403-302/tim-berners-lee-the-inventor-of-the-web-has-3-big-fears-for-its-future.jpg)"
   ]
  },
  {
   "cell_type": "markdown",
   "metadata": {
    "slideshow": {
     "slide_type": "subslide"
    }
   },
   "source": [
    "### The first webserver...\n",
    "\n",
    "<img src=\"https://1.bp.blogspot.com/-PClkpypOQag/V6WxPoqsSMI/AAAAAAAApEY/CaJk8sjd-6wG5alOU7FMdUUvQl169UkNgCLcB/s1600/first-web-server.png\" alt=\"Drawing\" style=\"width: 500px;\"/>\n",
    "![]()\n",
    "\n",
    "You can see that your communication runs over HTTP when inspecting the complete URL for example from your browser.\n",
    "\n",
    "For example, enter http://itu.dk in your browser and you will see ITU's homepage.\n",
    "\n",
    "In case you see an address starting with `https://` then your communication runs via HTTP but is encrypted, i.e., _secure_."
   ]
  },
  {
   "cell_type": "markdown",
   "metadata": {
    "slideshow": {
     "slide_type": "subslide"
    }
   },
   "source": [
    "From now on you know to be careful online. \n",
    "\n",
    "**All** communication via HTTP can be read by others, e.g., **everybody**.\n",
    "\n",
    "Make sure you only enter information on systems to which you can communicate via an encrypted `https://` connection.\n",
    "\n",
    "\n",
    "----------------------------------------------------"
   ]
  },
  {
   "cell_type": "markdown",
   "metadata": {
    "slideshow": {
     "slide_type": "slide"
    }
   },
   "source": [
    "# And now?\n",
    "\n",
    "So far, during the last weeks, we learned how to program. But constructing software is way more than only programming."
   ]
  },
  {
   "cell_type": "markdown",
   "metadata": {
    "slideshow": {
     "slide_type": "fragment"
    }
   },
   "source": [
    "It is similar to communication in the real world. What we did so far, corresponds to that you learned how to speak a foreign language. But you did not learn how to write a captivating novel or how to hold an interesting speech.\n",
    "\n",
    "The latter is what _software egineering_ is about."
   ]
  },
  {
   "cell_type": "markdown",
   "metadata": {
    "slideshow": {
     "slide_type": "subslide"
    }
   },
   "source": [
    "# Software Engineering\n",
    "\n",
    "  > **software engineering.** (1) The application of a systematic, disciplined, quantifiable approach to the development, operation, and maintenance of software; that is, the application of engineering to software. ...\n",
    "  >\n",
    "  >  _IEEE Standard Glossary of Software Engineering Terminology_, IEEE std 610.12-1990, 1990., \n",
    "  > see for example https://www.idi.ntnu.no/grupper/su/publ/ese/ieee-se-glossary-610.12-1990.pdf\n",
    "  \n",
    "That is, creating software is more that programming! "
   ]
  },
  {
   "cell_type": "markdown",
   "metadata": {
    "slideshow": {
     "slide_type": "subslide"
    }
   },
   "source": [
    "## Did we do more than programming?\n",
    "\n",
    "We already applied typical software engineering practices. Did we? "
   ]
  },
  {
   "cell_type": "markdown",
   "metadata": {
    "slideshow": {
     "slide_type": "fragment"
    }
   },
   "source": [
    "Yes, partly. We applied:\n",
    "  \n",
    "  * Version control with Git, to distribute the latest lecture material.\n",
    "  * Perhaps you used the unit tests and test cases that we provided to test your code.\n",
    "  * Likely you wrote some documentation in the form of docstrings, comments, or text files."
   ]
  },
  {
   "cell_type": "markdown",
   "metadata": {
    "slideshow": {
     "slide_type": "subslide"
    }
   },
   "source": [
    "But there are many more issues, which we did not cover in this seminar, but which you may find interesting in your further studies or your later careers.\n",
    "\n",
    "For example:  "
   ]
  },
  {
   "cell_type": "markdown",
   "metadata": {
    "slideshow": {
     "slide_type": "fragment"
    }
   },
   "source": [
    "  * **Requirements ellicitation**, that is how to figure out what other people want to have build/solved?"
   ]
  },
  {
   "cell_type": "markdown",
   "metadata": {
    "slideshow": {
     "slide_type": "fragment"
    }
   },
   "source": [
    "  * **Software Architecture**, how to structure our system into sub-systems that are appropriate for the solution?"
   ]
  },
  {
   "cell_type": "markdown",
   "metadata": {
    "slideshow": {
     "slide_type": "fragment"
    }
   },
   "source": [
    "  * **Deployment**, how do we actually build our system and make different parts of it operate on potentially many computers?"
   ]
  },
  {
   "cell_type": "markdown",
   "metadata": {
    "slideshow": {
     "slide_type": "subslide"
    }
   },
   "source": [
    "  * **Team Management**, how do we have to organize teams so that they know what to do and get things done on time?"
   ]
  },
  {
   "cell_type": "markdown",
   "metadata": {
    "slideshow": {
     "slide_type": "fragment"
    }
   },
   "source": [
    "  * **Time/Project Management**, how do we figure out which task takes how long, figure out it's importance, and when to complete it?"
   ]
  },
  {
   "cell_type": "markdown",
   "metadata": {
    "slideshow": {
     "slide_type": "fragment"
    }
   },
   "source": [
    "  * and many more..."
   ]
  },
  {
   "cell_type": "markdown",
   "metadata": {
    "slideshow": {
     "slide_type": "subslide"
    }
   },
   "source": [
    "Consequently, software engineering is to a high degree a social process, which in turn relies heavily on interaction with others to understand what they really want.\n",
    "\n",
    "<img src=\"https://www.signavio.com/wp-content/uploads/2016/09/vertical-medien-iStock_75648673_XXXLARGE.jpg?w=1200&h=480&zc=1\" width=600/>\n",
    "\n",
    "\n",
    "This is where IT studies are often misunderstood and clichés about nerdy developers are just wrong."
   ]
  },
  {
   "cell_type": "markdown",
   "metadata": {
    "slideshow": {
     "slide_type": "subslide"
    }
   },
   "source": [
    "Let us try to illustrate some aspects of software engineering on the following scenario.\n",
    "\n",
    "## Scenario\n",
    "\n",
    "  > Let's imagine that some of your fellow students realize that you often have to collect data via surveys during your studies. In the beginning you handle those tasks via [Google Forms](https://www.google.com/forms/about/).\n",
    "  >\n",
    "  > Eventually, some of your fellow students realize that they do not want to continue using this service as all of your surverys along with the collected responses are stored on Google's servers.\n",
    "  >\n",
    "  > They come to you and utter the desire that they would like to have their own survey system."
   ]
  },
  {
   "cell_type": "markdown",
   "metadata": {
    "slideshow": {
     "slide_type": "fragment"
    }
   },
   "source": [
    "### What could be done from that description to solve thier problem?\n",
    "\n",
    "  * You could point them to one of the many other survey services, such as http://www.surveymonkey.com\n",
    "  * You could create an email account to which respondents email their surveys and then you crowdsource the task of collecting all the replies in an Excel sheet, which will eventually be emailed to your friends.\n",
    "  * and many more... your imagination sets the limits."
   ]
  },
  {
   "cell_type": "markdown",
   "metadata": {
    "slideshow": {
     "slide_type": "subslide"
    }
   },
   "source": [
    "Now, that you know how to program with Python and that you have an idea about writing webservers with it, you are **brave** and tell you fellow students that you think you can build a small software systems, which allows them to run various kinds of surveys online.\n",
    "\n",
    "![](images/brave.png)\n",
    "\n",
    "But where to start?"
   ]
  },
  {
   "cell_type": "markdown",
   "metadata": {
    "slideshow": {
     "slide_type": "subslide"
    }
   },
   "source": [
    "Likely, instead of directly starting to program a system of which you think that it will appropriately implement their requirements, it is likely a good idea to talk to them to try to figure out what their requirements actually are.\n",
    "\n",
    "<div style=\"float:left; width:400px\">\n",
    "    <img src=\"http://media.cleveland.com/roadrant_impact/photo/road-rant-rhoades-car-7efb1399a88e2961.jpg\" width=\"400px\"/>\n",
    "</div>\n",
    "<div style=\"float:right; width:400px\">\n",
    "    <img src=\"https://cleantechnica.com/files/2017/08/Tesla-Model-X-Silver.jpg\" width=\"400px\"/>\n",
    "</div>"
   ]
  },
  {
   "cell_type": "markdown",
   "metadata": {
    "slideshow": {
     "slide_type": "subslide"
    }
   },
   "source": [
    "### How do we now what to program?\n",
    "\n",
    "One of the most important Software Engineering activities is about how we can ellicit and capture the requirements for a project so that we are sure to not miss anything of importance in our solution and so that we provide a solution which actually matches what is desired. \n",
    "\n",
    "So quite likely, you have to meet with your friends and you have to try to figure out what it is that they need essentially.\n",
    "\n",
    "\n",
    "![](http://gazetekarinca.com/wp-content/uploads/2017/04/anket.jpg)"
   ]
  },
  {
   "cell_type": "markdown",
   "metadata": {
    "slideshow": {
     "slide_type": "subslide"
    }
   },
   "source": [
    "#### After some meetings...\n",
    "\n",
    "You likely figured out that they need for sure a system that can display questionaires in a browser window and that collects the responses in some form of a database."
   ]
  },
  {
   "cell_type": "markdown",
   "metadata": {
    "slideshow": {
     "slide_type": "subslide"
    }
   },
   "source": [
    "So you start working and write a server similar to this one:\n",
    "    \n",
    "    \n",
    "```python\n",
    "import os\n",
    "import sqlite3\n",
    "from flask import Flask, render_template, request\n",
    "\n",
    "\n",
    "app = Flask(__name__, static_url_path='')\n",
    "\n",
    "\n",
    "def init_db(db='survey_replies.db'):\n",
    "    # [...not displayed here...]\n",
    "    pass\n",
    "\n",
    "def save_reply_to_db(data, db='survey_replies.db'):\n",
    "    # [...not displayed here...]\n",
    "    pass\n",
    "\n",
    "\n",
    "@app.route('/', methods=['GET', 'POST'])\n",
    "def serve_file():\n",
    "    if request.method == 'GET':\n",
    "        return render_template('index.html')\n",
    "    elif request.method == 'POST':\n",
    "        users_reply = request.form\n",
    "        save_reply_to_db(users_reply.values())\n",
    "        return 'Thank you! Your answers are saved.'\n",
    "\n",
    "\n",
    "if __name__ == '__main__':\n",
    "    app.run(host='127.0.0.1', debug=True)\n",
    "```\n",
    "\n",
    "Inspect the complete code in `questionaire_server/server.py`."
   ]
  },
  {
   "cell_type": "markdown",
   "metadata": {
    "slideshow": {
     "slide_type": "subslide"
    }
   },
   "source": [
    "<head>\n",
    "    <link href=\"//netdna.bootstrapcdn.com/bootstrap/3.3.7/css/bootstrap.min.css\" rel=\"stylesheet\">\n",
    "    <title>Sample HTML Survey Form</title>\n",
    "    <style></style>\n",
    "</head>\n",
    "\n",
    "<body>\n",
    "    <h1><center>Sample HTML Survey Form</center></h1>\n",
    "    <h4><center>Qualification Seminar</center></h4>\n",
    "    <form action=\"/\" method=\"post\">\n",
    "        <hr>\n",
    "        <p>\n",
    "            The purpose of the survey would be stated here at the top of the survey. This survey should take less than 10 minutes to complete. This example is based on <a href=\"http://www1.udel.edu/dsacher/survey/\">Example online</a>\n",
    "        </p>\n",
    "        <p>\n",
    "            Some simple demographic information could be collected with radio buttons (e.g., gender, nationality), selection boxes (e.g., date of birth, snack preferences, etc.):\n",
    "        </p>\n",
    "        <h3>Please tell us a little about yourself. </h3>\n",
    "        <p>\n",
    "            Gender:\n",
    "            <input type=\"RADIO\" name=\"gender\" value=\"female\">Female\n",
    "            <input type=\"RADIO\" name=\"gender\" value=\"male\">Male\n",
    "            <input type=\"RADIO\" name=\"gender\" value=\"na\">Don't want to tell\n",
    "        </p>\n",
    "        <p>\n",
    "            Date of birth: Month\n",
    "            <select name=\"mob\">\n",
    "                <option selected=\"\" value=\"\">?</option>\n",
    "                <option value=\"1\">Jan</option>\n",
    "                <option value=\"2\">Feb</option>\n",
    "                <option value=\"3\">Mar</option>\n",
    "                <option value=\"4\">Apr</option>\n",
    "                <option value=\"5\">May</option>\n",
    "                <option value=\"6\">Jun</option>\n",
    "                <option value=\"7\">Jul</option>\n",
    "                <option value=\"8\">Aug</option>\n",
    "                <option value=\"9\">Sept</option>\n",
    "                <option value=\"10\">Oct</option>\n",
    "                <option value=\"11\">Nov</option>\n",
    "                <option value=\"12\">Dec</option>\n",
    "            </select> Day\n",
    "            <select name=\"dob\">\n",
    "                <option selected=\"\" value=\"\">?</option>\n",
    "                <option>1</option>\n",
    "                <option>2</option>\n",
    "                <option>3</option>\n",
    "                <option>4</option>\n",
    "                <option>5</option>\n",
    "                <option>6</option>\n",
    "                <option>7</option>\n",
    "                <option>8</option>\n",
    "                <option>9</option>\n",
    "                <option>10</option>\n",
    "                <option>11</option>\n",
    "                <option>12</option>\n",
    "                <option>13</option>\n",
    "                <option>14</option>\n",
    "                <option>15</option>\n",
    "                <option>16</option>\n",
    "                <option>17</option>\n",
    "                <option>18</option>\n",
    "                <option>19</option>\n",
    "                <option>20</option>\n",
    "                <option>21</option>\n",
    "                <option>22</option>\n",
    "                <option>23</option>\n",
    "                <option>24</option>\n",
    "                <option>25</option>\n",
    "                <option>26</option>\n",
    "                <option>27</option>\n",
    "                <option>28</option>\n",
    "                <option>29</option>\n",
    "                <option>30</option>\n",
    "                <option>31 </option>\n",
    "            </select> Year\n",
    "            <select name=\"yob\">\n",
    "                <option selected=\"\" value=\"\">??</option>\n",
    "                <option>1990</option>\n",
    "                <option>1991</option>\n",
    "                <option>1992</option>\n",
    "                <option>1993</option>\n",
    "                <option>1994</option>\n",
    "                <option>1995</option>\n",
    "                <option>1996</option>\n",
    "                <option>1997</option>\n",
    "                <option>1998</option>\n",
    "                <option>1999</option>\n",
    "                <option>2000</option>\n",
    "                <option>2001</option>\n",
    "                <option>2002</option>\n",
    "                <option>2003</option>\n",
    "                <option>2004</option>\n",
    "                <option>2005</option>\n",
    "            </select>\n",
    "        </p>\n",
    "        <p>\n",
    "            Nationality:\n",
    "            <input type=\"RADIO\" name=\"nation\" value=\"1\">Danish\n",
    "            <input type=\"RADIO\" name=\"nation\" value=\"2\">Swedish\n",
    "            <input type=\"RADIO\" name=\"nation\" value=\"3\">Norwegian\n",
    "            <input type=\"RADIO\" name=\"nation\" value=\"4\">Finish\n",
    "            <input type=\"RADIO\" name=\"nation\" value=\"5\">Non-Scandinavian\n",
    "        </p>\n",
    "        <p>\n",
    "            Favorite ice-cream:\n",
    "            <select name=\"fav_icecream\">\n",
    "                <option selected=\"\" value=\"\"> ?</option>\n",
    "                <option value=\"1\">Vanilla</option>\n",
    "                <option value=\"2\">Chocolate</option>\n",
    "                <option value=\"3\">Strawberry</option>\n",
    "                <option value=\"4\">Lemon</option>\n",
    "                <option value=\"5\">Other</option>\n",
    "            </select>\n",
    "        </p>\n",
    "        <hr>\n",
    "        <h3>Select the answer that is true most of the time.</h3>\n",
    "        <p>\n",
    "            <table border=\"\">\n",
    "                <tbody>\n",
    "                    <tr align=\"CENTER\">\n",
    "                        <td width=\"75\"> </td>\n",
    "                        <td width=\"75\"><b>Strongly<br>agree</b></td>\n",
    "                        <td width=\"75\"><b>Agree</b></td>\n",
    "                        <td width=\"75\"><b>Neither<br>agree<br>nor<br>disagree</b></td>\n",
    "                        <td width=\"75\"><b>Disagree</b></td>\n",
    "                        <td width=\"75\"><b>Strongly<br>disagree</b></td>\n",
    "                    </tr>\n",
    "                    <tr align=\"CENTER\">\n",
    "                        <td align=\"LEFT\">\n",
    "                            We did not eat sufficient ice cream during the seminar.</td>\n",
    "                        <td>\n",
    "                            <input type=\"RADIO\" name=\"icecream\" value=\"1\">\n",
    "                        </td>\n",
    "                        <td>\n",
    "                            <input type=\"RADIO\" name=\"icecream\" value=\"2\">\n",
    "                        </td>\n",
    "                        <td>\n",
    "                            <input type=\"RADIO\" name=\"icecream\" value=\"3\">\n",
    "                        </td>\n",
    "                        <td>\n",
    "                            <input type=\"RADIO\" name=\"icecream\" value=\"4\">\n",
    "                        </td>\n",
    "                        <td>\n",
    "                            <input type=\"RADIO\" name=\"icecream\" value=\"5\">\n",
    "                        </td>\n",
    "                    </tr>\n",
    "                    <tr align=\"CENTER\">\n",
    "                        <td align=\"LEFT\">\n",
    "                            There should have been more cake.</td>\n",
    "                        <td>\n",
    "                            <input type=\"RADIO\" name=\"cake\" value=\"1\">\n",
    "                        </td>\n",
    "                        <td>\n",
    "                            <input type=\"RADIO\" name=\"cake\" value=\"2\">\n",
    "                        </td>\n",
    "                        <td>\n",
    "                            <input type=\"RADIO\" name=\"cake\" value=\"3\">\n",
    "                        </td>\n",
    "                        <td>\n",
    "                            <input type=\"RADIO\" name=\"cake\" value=\"4\">\n",
    "                        </td>\n",
    "                        <td>\n",
    "                            <input type=\"RADIO\" name=\"cake\" value=\"5\">\n",
    "                        </td>\n",
    "                    </tr>\n",
    "                    <tr align=\"CENTER\">\n",
    "                        <td align=\"LEFT\">\n",
    "                            I am angry because nobody shared cookies with me.</td>\n",
    "                        <td>\n",
    "                            <input type=\"RADIO\" name=\"cookies\" value=\"1\">\n",
    "                        </td>\n",
    "                        <td>\n",
    "                            <input type=\"RADIO\" name=\"cookies\" value=\"2\">\n",
    "                        </td>\n",
    "                        <td>\n",
    "                            <input type=\"RADIO\" name=\"cookies\" value=\"3\">\n",
    "                        </td>\n",
    "                        <td>\n",
    "                            <input type=\"RADIO\" name=\"cookies\" value=\"4\">\n",
    "                        </td>\n",
    "                        <td>\n",
    "                            <input type=\"RADIO\" name=\"cookies\" value=\"5\">\n",
    "                        </td>\n",
    "                    </tr>\n",
    "                    <tr align=\"CENTER\">\n",
    "                        <td align=\"LEFT\">\n",
    "                            Raisins should not be a cookie ingredient.</td>\n",
    "                        <td>\n",
    "                            <input type=\"RADIO\" name=\"ingredient\" value=\"1\">\n",
    "                        </td>\n",
    "                        <td>\n",
    "                            <input type=\"RADIO\" name=\"ingredient\" value=\"2\">\n",
    "                        </td>\n",
    "                        <td>\n",
    "                            <input type=\"RADIO\" name=\"ingredient\" value=\"3\">\n",
    "                        </td>\n",
    "                        <td>\n",
    "                            <input type=\"RADIO\" name=\"ingredient\" value=\"4\">\n",
    "                        </td>\n",
    "                        <td>\n",
    "                            <input type=\"RADIO\" name=\"ingredient\" value=\"5\">\n",
    "                        </td>\n",
    "                    </tr>\n",
    "                </tbody>\n",
    "            </table>\n",
    "        </p>\n",
    "        <hr>\n",
    "        <p></p>\n",
    "        <p>\n",
    "            Do you have any additional thoughts on the topic of the survey?\n",
    "            <br>\n",
    "            <textarea name=\"comment\" rows=\"4\" cols=\"50\"></textarea>\n",
    "        </p>\n",
    "        <p></p>\n",
    "        <p>\n",
    "            If you would like to get informed about the results of the survey, please type your e-mail address below:\n",
    "            <br>\n",
    "        </p>\n",
    "        <center>\n",
    "            E-mail address:\n",
    "            <input type=\"text\" name=\"email\" size=\"40\" maxlength=\"80\">\n",
    "        </center>\n",
    "        <p></p>\n",
    "        <p>\n",
    "            Thank you for taking the survey. To submit the results, press the\n",
    "            <b>Send info</b> button below.\n",
    "        </p>\n",
    "        <p></p>\n",
    "        <p>\n",
    "            <input type=\"submit\" value=\"Send info\">\n",
    "            <input type=\"reset\" value=\"Clear values\">\n",
    "        </p>\n",
    "        <hr>\n",
    "    </form>\n",
    "</body>\n",
    "\n",
    "</html>"
   ]
  },
  {
   "cell_type": "markdown",
   "metadata": {
    "slideshow": {
     "slide_type": "subslide"
    }
   },
   "source": [
    "#### You think you are done.\n",
    "\n",
    "Now, you think you are done. \n",
    "\n",
    "You show the system to your friends, explain them how to use it and how to create other surveys.\n",
    "\n",
    "But suddenly, they realize:\n",
    "\n",
    "  > Hov, we also want to see the reponses in a nice way. Currently, they are hidden in the database."
   ]
  },
  {
   "cell_type": "markdown",
   "metadata": {
    "slideshow": {
     "slide_type": "subslide"
    }
   },
   "source": [
    "So you take another session with them trying to understand what they mean by _\"Seeing the responses in a nice way.\"_\n",
    "\n",
    "That could be:\n",
    "\n",
    "  * You create a report over all of the responses as a CSV file.\n",
    "  * You create a report over all of the responses as an Excel spreadsheet.\n",
    "  * You create another small websystem that shows an overview of the responses in a browser.\n",
    "  * etc."
   ]
  },
  {
   "cell_type": "markdown",
   "metadata": {
    "slideshow": {
     "slide_type": "subslide"
    }
   },
   "source": [
    "#### So you implement another small system\n",
    "\n",
    "```python\n",
    "import sqlite3\n",
    "from flask import Flask, render_template, request\n",
    "\n",
    "\n",
    "app = Flask(__name__, static_url_path='')\n",
    "\n",
    "\n",
    "@app.route('/')\n",
    "def serve_report():\n",
    "    db = 'survey_replies.db'\n",
    "    with sqlite3.connect(db) as conn:\n",
    "        c = conn.cursor()\n",
    "        c.execute('SELECT * FROM Replies')\n",
    "        contents = c.fetchall()\n",
    "\n",
    "        for idx, line in enumerate(contents):\n",
    "            print(f'Reply {idx}: {line}')\n",
    "    return render_template('report.html', reply_lines=contents)\n",
    "\n",
    "\n",
    "if __name__ == '__main__':\n",
    "    app.run(host='127.0.0.1', port=5001, debug=True)\n",
    "```\n",
    "\n"
   ]
  },
  {
   "cell_type": "markdown",
   "metadata": {},
   "source": [
    "<head>\n",
    "</head>\n",
    "\n",
    "<body>\n",
    "    <h1><center>Replies collected so far.</center></h1>\n",
    "    <table style=\"width:80%\">\n",
    "        <tbody><tr>\n",
    "            <th>Gender</th>\n",
    "            <th>Month</th>\n",
    "            <th>Day</th>\n",
    "            <th>Year</th>\n",
    "            <th>Nationality</th>\n",
    "            <th>Favorite Ice Cream</th>\n",
    "            <th>Ice Cream</th>\n",
    "            <th>Cake</th>\n",
    "            <th>Cookies</th>\n",
    "            <th>Ingredient</th>\n",
    "            <th>Comment</th>\n",
    "            <th>Email</th>\n",
    "        </tr>\n",
    "        \n",
    "        <tr>\n",
    "            <th>female</th>\n",
    "            <th>5</th>\n",
    "            <th>7</th>\n",
    "            <th>1999</th>\n",
    "            <th>3</th>\n",
    "            <th>5</th>\n",
    "            <th>2</th>\n",
    "            <th>2</th>\n",
    "            <th>3</th>\n",
    "            <th>3</th>\n",
    "            <th>I do not have anything to say.</th>\n",
    "            <th>ano@nymous.org</th>\n",
    "        </tr>\n",
    "        \n",
    "        <tr>\n",
    "            <th>male</th>\n",
    "            <th>10</th>\n",
    "            <th>21</th>\n",
    "            <th>2004</th>\n",
    "            <th>5</th>\n",
    "            <th>2</th>\n",
    "            <th>1</th>\n",
    "            <th>2</th>\n",
    "            <th>3</th>\n",
    "            <th>4</th>\n",
    "            <th>I like brownies but nobody seems to be interested :(</th>\n",
    "            <th>who@cares.org</th>\n",
    "        </tr>\n",
    "        \n",
    "        <tr>\n",
    "            <th>na</th>\n",
    "            <th>1</th>\n",
    "            <th>1</th>\n",
    "            <th>1990</th>\n",
    "            <th>1</th>\n",
    "            <th>4</th>\n",
    "            <th>4</th>\n",
    "            <th>3</th>\n",
    "            <th>2</th>\n",
    "            <th>1</th>\n",
    "            <th>Kammerjunker!</th>\n",
    "            <th>ingen@ved.det</th>\n",
    "        </tr>\n",
    "        \n",
    "    </tbody></table>\n",
    "</body>"
   ]
  },
  {
   "cell_type": "markdown",
   "metadata": {
    "slideshow": {
     "slide_type": "slide"
    }
   },
   "source": [
    "# System Integration\n",
    "\n",
    "\n",
    "So suddenly you already wrote a quite complex distrubuted system, which consists of two subsystems. \n",
    "\n",
    "The two subsystems are integrated via access to a single database."
   ]
  },
  {
   "cell_type": "markdown",
   "metadata": {
    "slideshow": {
     "slide_type": "slide"
    }
   },
   "source": [
    "# Architecture\n",
    "\n",
    "<img src=\"images/architecture.png\" width=\"500px\"/>"
   ]
  },
  {
   "cell_type": "markdown",
   "metadata": {
    "slideshow": {
     "slide_type": "subslide"
    }
   },
   "source": [
    "# Deployment\n",
    "\n",
    "\n",
    "Currently, the survey system runs on your computer.\n",
    "\n",
    "That is of course not a proper solution as you cannot be always at ITU and cannot have your computer always up and running when someone wants to run another survey.\n",
    "\n",
    "So you talk to ITU's IT department to figure out if you can run your survey system on one of their servers that is accessible within ITU.\n",
    "\n",
    "They give you access to one, you install Python on it, copy your programs over, start the server programs (listening to port `0.0.0.0`), open ports 5000 and 5001 on the servers and likely you are done."
   ]
  },
  {
   "cell_type": "markdown",
   "metadata": {
    "slideshow": {
     "slide_type": "subslide"
    }
   },
   "source": [
    "# Monitoring\n",
    "\n",
    "However, your system in the current state writes to one single database file.\n",
    "\n",
    "Imagine your friends start a survey where all ITU students reply, that database file grows and suddenly it becomes bigger than the hard disk that ITU's IT department gave you...\n",
    "\n",
    "What will happen?\n",
    "\n",
    "Your server program will crash and nobody will be able to reply to any survey anymore.\n",
    "\n",
    "After this happens twice, you likely come to the idea to write a small program that sends you notifications before the program will crash so that you can take appropriate meassures."
   ]
  },
  {
   "cell_type": "markdown",
   "metadata": {
    "slideshow": {
     "slide_type": "subslide"
    }
   },
   "source": [
    "# New Features\n",
    "\n",
    "Your current systems implements already some features, you can:\n",
    "\n",
    "  * Create a survey manually in code\n",
    "  * Others can respond to surveys online\n",
    "  * Reports of surveys can be seen online\n",
    "  \n",
    "  \n",
    "But perhaps you want to create new functionality. For example, sending reports in Excel spreadsheets to the survey creators, creating plots and statistics about replies, etc.\n",
    "\n",
    "All those are called features of your system."
   ]
  },
  {
   "cell_type": "code",
   "execution_count": 9,
   "metadata": {
    "slideshow": {
     "slide_type": "slide"
    }
   },
   "outputs": [
    {
     "data": {
      "image/jpeg": "[encoded data removed]",
      "text/html": [
       "\n",
       "        <iframe\n",
       "            width=\"400\"\n",
       "            height=\"300\"\n",
       "            src=\"https://www.youtube.com/embed/4pBo-GL9SRg\"\n",
       "            frameborder=\"0\"\n",
       "            allowfullscreen\n",
       "        ></iframe>\n",
       "        "
      ],
      "text/plain": [
       "<IPython.lib.display.YouTubeVideo at 0x105be97f0>"
      ]
     },
     "execution_count": 9,
     "metadata": {},
     "output_type": "execute_result"
    }
   ],
   "source": [
    "from IPython.display import YouTubeVideo\n",
    "#YouTubeVideo(\"4pBo-GL9SRg\", autoplay=1, theme=\"light\")\n",
    "YouTubeVideo(\"4pBo-GL9SRg\")"
   ]
  }
 ],
 "metadata": {
  "celltoolbar": "Slideshow",
  "kernelspec": {
   "display_name": "Python 3",
   "language": "python",
   "name": "python3"
  },
  "language_info": {
   "codemirror_mode": {
    "name": "ipython",
    "version": 3
   },
   "file_extension": ".py",
   "mimetype": "text/x-python",
   "name": "python",
   "nbconvert_exporter": "python",
   "pygments_lexer": "ipython3",
   "version": "3.6.4"
  }
 },
 "nbformat": 4,
 "nbformat_minor": 2
}
