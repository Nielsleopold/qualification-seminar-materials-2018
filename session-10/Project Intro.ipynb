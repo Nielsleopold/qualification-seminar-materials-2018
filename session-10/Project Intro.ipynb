{
 "cells": [
  {
   "cell_type": "markdown",
   "metadata": {
    "slideshow": {
     "slide_type": "slide"
    }
   },
   "source": [
    "# Your Project\n",
    "\n",
    "In essence, now that you learned a bit on how to program in Python, do whatever you think is interesting and fun. That is the main purpose of the project. Of course, as long as you program some project in Python you will become automatically better in using the language."
   ]
  },
  {
   "cell_type": "markdown",
   "metadata": {
    "slideshow": {
     "slide_type": "subslide"
    }
   },
   "source": [
    "In case you do not have a good idea for a possible project, you can get inspiration from the project chapters in Part II on _Python Crash Course_, which contains three projects. \n",
    "\n",
    "  * Alien Invasion: Making a Game with Python, see chapters 12, 13, and 14\n",
    "  ![](http://www.gamesdatabase.org/Media/SYSTEM/Arcade/Snap/Thumb/Thumb_Alien_Invasion_-_Bootleg.jpg)"
   ]
  },
  {
   "cell_type": "markdown",
   "metadata": {
    "slideshow": {
     "slide_type": "subslide"
    }
   },
   "source": [
    "  * Data Visualization, see chapters 15, 16, and 17\n",
    "    <img src=\"https://community.modeanalytics.com/images/gallery/python-annotations/matplotlib_annotation.png\" width=\"400px\"/>"
   ]
  },
  {
   "cell_type": "markdown",
   "metadata": {
    "slideshow": {
     "slide_type": "subslide"
    }
   },
   "source": [
    "  * Web Applications, see chapters 18, 19, and 20\n",
    "      <img src=\"https://www.filepicker.io/api/file/P6Z7Ac0UTVWr260Fvg7x\" width=\"200px\"/>\n"
   ]
  },
  {
   "cell_type": "markdown",
   "metadata": {
    "slideshow": {
     "slide_type": "subslide"
    }
   },
   "source": [
    "### A Machine Learning/Data Science Project\n",
    "\n",
    "Based on the book _Data Science from Scratch_\n",
    "<img src=\"https://covers.oreillystatic.com/images/0636920033400/lrg.jpg\" width=\"200px\"/>\n",
    "\n",
    "you could do something like price prediction of flats, email spam filter, etc. talk to the TAs and Viktor in particular :)"
   ]
  },
  {
   "cell_type": "markdown",
   "metadata": {
    "slideshow": {
     "slide_type": "subslide"
    }
   },
   "source": [
    "### Anything that you like/deem useful\n",
    "\n",
    "Old exercises are just good too. If you want to, give them a twist."
   ]
  },
  {
   "cell_type": "markdown",
   "metadata": {
    "slideshow": {
     "slide_type": "slide"
    }
   },
   "source": [
    "## Tuesday\n",
    "\n",
    "Additional time with Magrethe and Viktor (TAs) tomorrow, Tuesday 10 to ??"
   ]
  },
  {
   "cell_type": "markdown",
   "metadata": {
    "slideshow": {
     "slide_type": "slide"
    }
   },
   "source": [
    "## Wednesday and Friday\n",
    "\n",
    "9:00 to 15:00 Auditorium 1"
   ]
  }
 ],
 "metadata": {
  "celltoolbar": "Slideshow",
  "kernelspec": {
   "display_name": "Python 3",
   "language": "python",
   "name": "python3"
  },
  "language_info": {
   "codemirror_mode": {
    "name": "ipython",
    "version": 3
   },
   "file_extension": ".py",
   "mimetype": "text/x-python",
   "name": "python",
   "nbconvert_exporter": "python",
   "pygments_lexer": "ipython3",
   "version": "3.6.3"
  }
 },
 "nbformat": 4,
 "nbformat_minor": 2
}
