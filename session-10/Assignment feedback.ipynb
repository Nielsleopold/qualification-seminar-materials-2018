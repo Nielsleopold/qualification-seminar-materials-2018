{
 "cells": [
  {
   "cell_type": "markdown",
   "metadata": {
    "slideshow": {
     "slide_type": "slide"
    }
   },
   "source": [
    "# Assignment feedback"
   ]
  },
  {
   "cell_type": "code",
   "execution_count": null,
   "metadata": {},
   "outputs": [],
   "source": []
  },
  {
   "cell_type": "markdown",
   "metadata": {
    "slideshow": {
     "slide_type": "fragment"
    }
   },
   "source": [
    "First of all there were some nice solutions! Well done!"
   ]
  },
  {
   "cell_type": "markdown",
   "metadata": {
    "slideshow": {
     "slide_type": "subslide"
    }
   },
   "source": [
    "## Different types of files\n",
    "\n",
    "* This is a python file: `ismejeriet.py`"
   ]
  },
  {
   "cell_type": "markdown",
   "metadata": {
    "slideshow": {
     "slide_type": "fragment"
    }
   },
   "source": [
    "* This is a text file: `text.txt`"
   ]
  },
  {
   "cell_type": "markdown",
   "metadata": {
    "slideshow": {
     "slide_type": "fragment"
    }
   },
   "source": [
    "* This is a zip file: `sol-jegp.zip`\n",
    "  * This is what you should hand in!"
   ]
  },
  {
   "cell_type": "markdown",
   "metadata": {
    "slideshow": {
     "slide_type": "subslide"
    }
   },
   "source": [
    "## The `Customer` class\n",
    "\n",
    " A `Customer` shall have three methods. A constructor, i.e.,  `__init__`, one to tell the customer's name `say_name`, and one for choosing ice cream `choose_icecream`.\n"
   ]
  },
  {
   "cell_type": "code",
   "execution_count": 15,
   "metadata": {
    "slideshow": {
     "slide_type": "fragment"
    }
   },
   "outputs": [
    {
     "name": "stdout",
     "output_type": "stream",
     "text": [
      "Jane Doe\n",
      "John Doe\n"
     ]
    }
   ],
   "source": [
    "class Customer(): \n",
    "    def __init__(self, gender):\n",
    "        if gender == 'male':\n",
    "            self.name = 'John Doe'\n",
    "        else:\n",
    "            self.name = 'Jane Doe'\n",
    "    def say_name(self):\n",
    "        print(self.name)\n",
    "    def choose_icecream(self):\n",
    "        pass\n",
    "Customer('female').say_name()\n",
    "Customer('male').say_name()"
   ]
  },
  {
   "cell_type": "markdown",
   "metadata": {
    "slideshow": {
     "slide_type": "fragment"
    }
   },
   "source": [
    "  * Additionally, it has a property called `name`."
   ]
  },
  {
   "cell_type": "markdown",
   "metadata": {
    "slideshow": {
     "slide_type": "subslide"
    }
   },
   "source": [
    "* A `ShopAssistant` shall have two methods. A constructor, i.e.,  `__init__`, and another one to serve ice cream `serve_icecream_to`.\n",
    "  * Additionally, the `ShopAssistant` class has a properties called `serving_speed`, `name`, and `busy`."
   ]
  },
  {
   "cell_type": "code",
   "execution_count": 16,
   "metadata": {
    "slideshow": {
     "slide_type": "fragment"
    }
   },
   "outputs": [
    {
     "data": {
      "text/plain": [
       "<__main__.ShopAssistant at 0x10860f5c0>"
      ]
     },
     "execution_count": 16,
     "metadata": {},
     "output_type": "execute_result"
    }
   ],
   "source": [
    "class ShopAssistant():\n",
    "    def __init__(self, serving_speed, name):\n",
    "        '''Constructs a ShopAssistant\n",
    "        \n",
    "        Arguments:\n",
    "        serving_speed -- A number in seconds\n",
    "        name -- The name of the ShopAssistant\n",
    "        '''\n",
    "        self.is_busy = False\n",
    "        pass\n",
    "    def serve_icecream_to(self):\n",
    "        pass\n",
    "ShopAssistant(2, 'Jane Doe')"
   ]
  }
 ],
 "metadata": {
  "celltoolbar": "Slideshow",
  "kernelspec": {
   "display_name": "Python 3",
   "language": "python",
   "name": "python3"
  },
  "language_info": {
   "codemirror_mode": {
    "name": "ipython",
    "version": 3
   },
   "file_extension": ".py",
   "mimetype": "text/x-python",
   "name": "python",
   "nbconvert_exporter": "python",
   "pygments_lexer": "ipython3",
   "version": "3.6.4"
  }
 },
 "nbformat": 4,
 "nbformat_minor": 2
}
