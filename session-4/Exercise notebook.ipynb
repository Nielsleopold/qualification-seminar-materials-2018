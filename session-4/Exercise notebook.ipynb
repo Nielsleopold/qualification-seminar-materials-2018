{
 "cells": [
  {
   "cell_type": "markdown",
   "metadata": {},
   "source": [
    "# Exercise notebook\n",
    "\n",
    "This notebook contains all the small exercises for today's session.\n",
    "You **should not have to write code in this notebook**. Your code should be written directly in Visual Studio Code on your own machine."
   ]
  },
  {
   "cell_type": "markdown",
   "metadata": {},
   "source": [
    "## Part 1: Command-line programs\n",
    "\n",
    "* Create a new directory called gummi_bear\n",
    "* Enter that directory\n",
    "* Show your present working directory\n",
    "* What is the difference between ls and ls ."
   ]
  },
  {
   "cell_type": "markdown",
   "metadata": {},
   "source": [
    "## Part 2: More commands!\n",
    "* Move your old file `gummi_bears` into the file `gummi_bears.txt` (same as renaming)\n",
    "* Append the line `dashing and daring, courageous and caring` into the file `gummi_bears.txt`\n",
    "* Print the content of the file on screen with `cat`\n",
    "* Delete the `gummi_bears.txt` file again"
   ]
  },
  {
   "cell_type": "markdown",
   "metadata": {},
   "source": [
    "## Part 3: Running python files\n",
    "\n",
    "Write a small command-line program that prints all the command-line arguments, regardless of how many arguments you give it!\n",
    "\n",
    "Executing\n",
    "```bash\n",
    "python printer.py faithful and friendly with stories to shaaaaare\n",
    "```\n",
    "\n",
    "Shall produce: \n",
    "```bash\n",
    "faithful\n",
    "and\n",
    "friendly\n",
    "with\n",
    "stories\n",
    "to \n",
    "shaaaaare\n",
    "```"
   ]
  },
  {
   "cell_type": "markdown",
   "metadata": {},
   "source": [
    "## Part 4: More advanced command-line application\n",
    "\n",
    "Write a small command-line program that can create lines of Scatman songs. For example, the following call\n",
    "\n",
    "```bash\n",
    "python scatman.py ba-da 2 ba-be 1 bop 2 bodda 1 bope 1\n",
    "```\n",
    "\n",
    "Shall produce the 13th line of the song: `ba-daba-da ba-be bopbop bodda bope`\n",
    "\n",
    "The arguments for your program shall be an even length list of string integer pairs, where the string denotes the _scatter_ and the integer denotes how often it appears in that line.\n",
    "\n",
    "\n",
    "See the Scatman lyrics for more possible lines to produce: https://www.azlyrics.com/lyrics/scatmanjohn/scatmanskibabopbadopbop.html\n",
    "And the song:\n",
    "https://www.youtube.com/watch?v=Hy8kmNEo1i8"
   ]
  },
  {
   "cell_type": "markdown",
   "metadata": {},
   "source": [
    "## Part 5: Working with pipes\n",
    "\n",
    "What is the result of the following?\n",
    "\n",
    "* `echo 'Hello world' | rev`\n",
    "* `echo 'Hello world' | wc -c`\n",
    "* `cat us_names.py | wc -l`\n",
    "* `cat us_names.py | rev`"
   ]
  },
  {
   "cell_type": "markdown",
   "metadata": {},
   "source": [
    "## Part 6: Downloading stuff\n",
    "\n",
    "Consider the following program `download_books.py`:\n",
    "\n",
    "```python\n",
    "import os\n",
    "import sys\n",
    "import urllib.request as req\n",
    "from urllib.parse import urlparse\n",
    "\n",
    "\n",
    "def download(url):\n",
    "    local_file = os.path.join('.', os.path.basename(urlparse(url).path))\n",
    "    print('Downloading file to {}'.format(local_file))\n",
    "\n",
    "    if not os.path.isfile(local_file):\n",
    "        # download the file only in case we did not do so earlier\n",
    "        req.urlretrieve(url, local_file)\n",
    "\n",
    "\n",
    "def run(arguments):\n",
    "    if arguments:\n",
    "        for url in arguments:\n",
    "            download(url)\n",
    "    else:\n",
    "        print('Usage: python download_books.py url_1 [url_2 ...]')\n",
    "\n",
    "\n",
    "if __name__ == '__main__':\n",
    "    run(sys.argv[1:])\n",
    "```\n",
    "\n",
    "\n",
    "It downloads a set of files from the internet. The files to download are given as arguments to your program on the command-line as illustrated in the following:\n",
    "\n",
    "```bash\n",
    "$ python download_books.py http://www.gutenberg.org/files/2701/2701-0.txt http://www.gutenberg.org/cache/epub/27525/pg27525.txt\n",
    "```\n",
    "\n",
    "Will download the two given text files to your current directory.\n",
    "\n",
    "Modify the above program, so that it can download a list of files for which URLs are provided on stdin. That is, modify it, so that you can reuse the output of one CLI command as input to your program. \n",
    "\n",
    "```bash\n",
    "$ cat list_of_books.txt | python download_books.py\n",
    "```\n"
   ]
  },
  {
   "cell_type": "markdown",
   "metadata": {},
   "source": [
    "## Part 7: Debugging\n",
    "\n",
    "* Find the error in the program `debug_me.py` with the help of the debugger.\n",
    "\n",
    "```bash\n",
    "$ code debug_me.py\n",
    "```"
   ]
  },
  {
   "cell_type": "markdown",
   "metadata": {},
   "source": [
    "## Part 8: Ice Cream Challange!\n",
    "\n",
    "Find the error in the program `create_ascii_art.py` with the help of the debugger.\n",
    "\n",
    "\n",
    "Use for example the two given images `commander_keen.png` and `commander_keen_issue.png`. For the former the program appears to work perfectly but for the latter it crashes with an error. Try to figure out the issue of the program and try to fix it.\n",
    "\n",
    "The first person that hands-in a fixed and working version of that program will get two balls of ice cream from Ismejeriet, the ice cream shop opposite ITU.\n",
    "\n",
    "![](https://images.duckduckgo.com/iu/?u=http%3A%2F%2Fmedia.giphy.com%2Fmedia%2FOU7qx8L1cKtYk%2Fgiphy.gif&f=1)"
   ]
  },
  {
   "cell_type": "markdown",
   "metadata": {},
   "source": [
    "## Part 9: Testing\n",
    "\n",
    "Put the following code into the file `test_download_books.py`:\n",
    "```python\n",
    "import os\n",
    "import download_books\n",
    "\n",
    "\n",
    "def test_download():\n",
    "    frankenstein_url = 'https://www.gutenberg.org/files/84/84-0.txt'\n",
    "    download_books.download(frankenstein_url)\n",
    "    assert os.path.isfile('84-0.txt')\n",
    "    \n",
    "\n",
    "def test_run():\n",
    "    frankenstein_url = 'https://www.gutenberg.org/files/84/84-0.txt'\n",
    "    alice_in_wonderland_url = 'https://www.gutenberg.org/files/11/11-0.txt'\n",
    "    jekyll_hyde_url = 'https://www.gutenberg.org/files/43/43-0.txt'\n",
    "    urls = [frankenstein_url, alice_in_wonderland_url, jekyll_hyde_url]\n",
    "\n",
    "    # Execute the actual function that we want to test\n",
    "    download_books.run(urls)\n",
    "    for url in urls:\n",
    "        file_name = os.path.basename(url)\n",
    "        assert os.path.isfile(file_name)\n",
    "```\n",
    "\n",
    "\n",
    "* Run the test with \n",
    "```bash\n",
    "$ pytest test_download_books.py\n",
    "```\n",
    "* Describe to your neighbour what it is doing\n",
    "* What is the issue with this unit test?\n",
    "* The `remove` function of the `os` module can delete files, for which pathes are passed as string argument.\n",
    "  Extend the above unit tests in `test_download_books.py` so that downloaded files are removed again after running     the corresponding unit tests.  "
   ]
  }
 ],
 "metadata": {
  "kernelspec": {
   "display_name": "Python 3",
   "language": "python",
   "name": "python3"
  },
  "language_info": {
   "codemirror_mode": {
    "name": "ipython",
    "version": 3
   },
   "file_extension": ".py",
   "mimetype": "text/x-python",
   "name": "python",
   "nbconvert_exporter": "python",
   "pygments_lexer": "ipython3",
   "version": "3.6.4"
  }
 },
 "nbformat": 4,
 "nbformat_minor": 2
}
