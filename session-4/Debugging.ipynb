{
 "cells": [
  {
   "cell_type": "markdown",
   "metadata": {
    "slideshow": {
     "slide_type": "slide"
    }
   },
   "source": [
    "# Debugging\n",
    "\n",
    "<img src=\"https://upload.wikimedia.org/wikipedia/commons/8/8a/H96566k.jpg\" alt=\"Drawing\" style=\"width: 500px;\"/>\n",
    "\n",
    "https://en.wikipedia.org/wiki/Software_bug"
   ]
  },
  {
   "cell_type": "markdown",
   "metadata": {
    "slideshow": {
     "slide_type": "subslide"
    }
   },
   "source": [
    "## Debugging is\n",
    "    \n",
    "  > the process of identifying and removing errors from computer hardware or software.\n",
    "  > Oxford Dictionary of English\n",
    "  \n",
    "Many people do that by sprinkling `print` statements over the program to examine the state of variables.\n",
    "\n",
    "However, that is not a good practice as you may forget to remove uneccesarry `print` statements from your program after you eliminated the bug (think about code dept from the last session)."
   ]
  },
  {
   "cell_type": "markdown",
   "metadata": {
    "slideshow": {
     "slide_type": "subslide"
    }
   },
   "source": [
    "Specialised programs -called _debugger_- exist for the task of examining a program's state while being executed.\n",
    "\n",
    "You can find a long list of debuggers for Python and for certain operating systems here: https://wiki.python.org/moin/PythonDebuggingTools\n",
    "\n",
    "In this class we will use the debugger built into Visual Studio Code.\n",
    "\n",
    "<img src=\"images/vs_code_debug.png\" alt=\"Drawing\" style=\"width: 500px;\"/>"
   ]
  },
  {
   "cell_type": "markdown",
   "metadata": {
    "slideshow": {
     "slide_type": "slide"
    }
   },
   "source": [
    "You can debug one of your programs by \"running it in the debugger\".\n",
    "\n",
    "In Visual Studio Code select your program or jsut start the editor on your program, e.g., with \n",
    "\n",
    "```bash\n",
    "$ code debug_me.py\n",
    "```\n",
    "\n",
    "Subsequently, click on the debug icon, which is the left-most fourth from the top. \n",
    "<img src=\"images/vs_code_debug_icon.png\" alt=\"Drawing\" style=\"width: 40px;\"/>\n",
    "\n",
    "That will open a window showing your code to the right and the state and types of the currently visible variables to the top left. The green 'play' arrow starts the debugger.\n",
    "\n",
    "With a debugger you can mark certain lines with a breakpoint. Then the progam execution will be interupted at this point and you can instepct the state of your variables."
   ]
  },
  {
   "cell_type": "markdown",
   "metadata": {
    "slideshow": {
     "slide_type": "subslide"
    }
   },
   "source": [
    "Commands for the debugger:\n",
    "\n",
    "  * Toggle breakpoints ➜ `F9`\n",
    "  * Start debugging ➜ `F5`\n",
    "  * Continue the program until next breakpoint ➜ `F5`\n",
    "  * Step over current line ➜ `F10`\n",
    "  * Step into function call ➜ `F11`\n",
    "  * Step out of function call ➜ ⇧+`F11`\n",
    "  * Stop debugging ➜ ⇧+`F5`\n",
    "  \n",
    "  \n",
    "Alternatively, you can use the symbols on the top of the debugger, which are explained when you hoover the mouse curser over the respective symbol:\n",
    "<img src=\"images/vs_code_debug_icons.png\" alt=\"Drawing\" style=\"width: 200px;\"/>"
   ]
  },
  {
   "cell_type": "markdown",
   "metadata": {
    "slideshow": {
     "slide_type": "subslide"
    }
   },
   "source": [
    "## Step-by-step guide to running the debugger\n",
    "\n",
    "1. Open the file you wish to debug\n",
    "2. Insert the necessary breakpoints in your code by clicking to the left of the line-number\n",
    "3. Press `F5` to run the debugger \n",
    "  * Alternatively you can press the green arrow in the top left corner\n",
    "4. Use the toolbar to navigate your code\n",
    "<img src=\"images/vs_code_debug_icons.png\" alt=\"Drawing\" style=\"width: 200px;\"/>\n"
   ]
  },
  {
   "cell_type": "markdown",
   "metadata": {
    "slideshow": {
     "slide_type": "skip"
    }
   },
   "source": [
    "Note, if you want to debug a program which consumes command-line arguments you have to tell them to the debugger via:\n",
    "\n",
    "  * Open the file you wish to debug\n",
    "  * Click the debug icon\n",
    "  * Make sure you are not in an active running debug session\n",
    "    * If you are click F5 or the red square to stop it\n",
    "  * Click the cog wheel right to the Debug play button\n",
    "  * Provide a list of arguments in the opened configuration file as in the image below\n",
    "    * Look for the \"Python: Current file\" section\n",
    "  \n",
    "<img src=\"images/debug_args.png\" alt=\"Drawing\" style=\"width: 500px;\"/>"
   ]
  },
  {
   "cell_type": "markdown",
   "metadata": {
    "slideshow": {
     "slide_type": "slide"
    }
   },
   "source": [
    "## Exercise\n",
    "\n",
    "* Find the error in the program `debug_me.py` with the help of the debugger.\n",
    "\n",
    "\n",
    "```bash\n",
    "$ code debug_me.py\n",
    "```"
   ]
  },
  {
   "cell_type": "markdown",
   "metadata": {
    "slideshow": {
     "slide_type": "subslide"
    }
   },
   "source": [
    "## Ice Cream Challange!\n",
    "\n",
    "Find the error in the program `create_ascii_art.py` with the help of the debugger.\n",
    "\n",
    "\n",
    "Use for example the two given images `commander_keen.png` and `commander_keen_issue.png`. For the former the program appears to work perfectly but for the latter it crashes with an error. Try to figure out the issue of the program and try to fix it.\n",
    "\n",
    "The first person that hands-in a fixed and working version of that program will get two balls of ice cream from Ismejeriet, the ice cream shop opposite ITU.\n",
    "\n",
    "![](https://images.duckduckgo.com/iu/?u=http%3A%2F%2Fmedia.giphy.com%2Fmedia%2FOU7qx8L1cKtYk%2Fgiphy.gif&f=1)"
   ]
  }
 ],
 "metadata": {
  "celltoolbar": "Slideshow",
  "kernelspec": {
   "display_name": "Python 3",
   "language": "python",
   "name": "python3"
  },
  "language_info": {
   "codemirror_mode": {
    "name": "ipython",
    "version": 3
   },
   "file_extension": ".py",
   "mimetype": "text/x-python",
   "name": "python",
   "nbconvert_exporter": "python",
   "pygments_lexer": "ipython3",
   "version": "3.6.4"
  }
 },
 "nbformat": 4,
 "nbformat_minor": 2
}
