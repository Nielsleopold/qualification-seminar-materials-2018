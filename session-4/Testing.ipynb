{
 "cells": [
  {
   "cell_type": "markdown",
   "metadata": {
    "slideshow": {
     "slide_type": "subslide"
    }
   },
   "source": [
    "# Testing\n",
    "\n",
    "Another way of removing errors or to minimize the likelyhood of their introduction is to write tests.\n",
    "\n",
    "When writing tests, you can be confident that your code will work correctly as more people begin to use your programs.\n",
    "\n",
    "Additionally, you will be able to test new code as you add it and make sure your changes do not break your program's existing behavior."
   ]
  },
  {
   "cell_type": "markdown",
   "metadata": {
    "slideshow": {
     "slide_type": "subslide"
    }
   },
   "source": [
    "## Unit Tests\n",
    "\n",
    "_Unit tests_ are small programs that test for correctness of specific aspects of the smallest units of your program, which are either functions or methods."
   ]
  },
  {
   "cell_type": "markdown",
   "metadata": {
    "slideshow": {
     "slide_type": "fragment"
    }
   },
   "source": [
    "## Test Case\n",
    "\n",
    "A _test case_ is a collection of unit tests that together prove that a function behaves as it's supposed to, within the full range of situations you expect it to handle."
   ]
  },
  {
   "cell_type": "markdown",
   "metadata": {
    "slideshow": {
     "slide_type": "fragment"
    }
   },
   "source": [
    "A good test case considers all the possible kinds of input a function could receive and includes tests to represent each of these situations."
   ]
  },
  {
   "cell_type": "markdown",
   "metadata": {
    "slideshow": {
     "slide_type": "subslide"
    }
   },
   "source": [
    "Consider the following program `generate_names.py`, which you wrote in last week and which generates a list of names. \n",
    "\n",
    "\n",
    "Of course, your program might look differently."
   ]
  },
  {
   "cell_type": "code",
   "execution_count": 3,
   "metadata": {
    "slideshow": {
     "slide_type": "-"
    }
   },
   "outputs": [],
   "source": [
    "import random\n",
    "import us_names\n",
    "\n",
    "\n",
    "def generate_names(gender, number):\n",
    "    \"\"\"Function creating a list of names, which are randomly created out\n",
    "    of names from the US census 1990.\n",
    "    \n",
    "    :param gender: str\n",
    "        The gender of the name. Can be 'female' or 'male'\n",
    "    :param number: int\n",
    "        Amount of names in the returned list\n",
    "    \n",
    "    :return: list\n",
    "        A list of strings with either female or male US names.\n",
    "    \"\"\"   \n",
    "    all_names = []\n",
    "    if gender == 'female':\n",
    "        names = us_names.FEMALE_NAMES\n",
    "    elif gender == 'male':\n",
    "        names = us_names.MALE_NAMES\n",
    "    else:\n",
    "        print(\"Error: Gender should be either 'female' or 'male'\")\n",
    "    for _ in range(number):\n",
    "        name = random.choice(names)\n",
    "        surname = random.choice(us_names.SURNAMES)\n",
    "        fullname = name + ' ' + surname\n",
    "        all_names.append(fullname)\n",
    "    return all_names"
   ]
  },
  {
   "cell_type": "markdown",
   "metadata": {
    "slideshow": {
     "slide_type": "subslide"
    }
   },
   "source": [
    "#### How did you test your program back then?\n",
    "\n",
    "Likely, you wrote some function calls as in the following."
   ]
  },
  {
   "cell_type": "code",
   "execution_count": 5,
   "metadata": {},
   "outputs": [
    {
     "name": "stdout",
     "output_type": "stream",
     "text": [
      "['Stephaine Spraglin', 'Mathilda Nockels', 'Stefanie Yount', 'Lindsey Frishman', 'Susann Eaglen', 'Torri Poire', 'Edda Legel', 'Lydia White', 'Chasity Speier', 'Selene Vanatta']\n",
      "['Angel Bullert', 'Glen Gustis', 'Fred Alvares', 'Reginald Blume', 'Jeffrey Hibler']\n"
     ]
    }
   ],
   "source": [
    "print(generate_names('female', 10))\n",
    "print(generate_names('male', 5))"
   ]
  },
  {
   "cell_type": "markdown",
   "metadata": {
    "slideshow": {
     "slide_type": "fragment"
    }
   },
   "source": [
    "But did you think about weird input that some other programmer might use?"
   ]
  },
  {
   "cell_type": "code",
   "execution_count": 6,
   "metadata": {},
   "outputs": [
    {
     "name": "stdout",
     "output_type": "stream",
     "text": [
      "Error: Gender should be either 'female' or 'male'\n"
     ]
    },
    {
     "ename": "UnboundLocalError",
     "evalue": "local variable 'names' referenced before assignment",
     "output_type": "error",
     "traceback": [
      "\u001b[0;31m---------------------------------------------------------------------------\u001b[0m",
      "\u001b[0;31mUnboundLocalError\u001b[0m                         Traceback (most recent call last)",
      "\u001b[0;32m<ipython-input-6-e34826b91e9b>\u001b[0m in \u001b[0;36m<module>\u001b[0;34m()\u001b[0m\n\u001b[0;32m----> 1\u001b[0;31m \u001b[0mgenerate_names\u001b[0m\u001b[0;34m(\u001b[0m\u001b[0;34m'schnippschnapp'\u001b[0m\u001b[0;34m,\u001b[0m \u001b[0;36m8\u001b[0m\u001b[0;34m)\u001b[0m\u001b[0;34m\u001b[0m\u001b[0m\n\u001b[0m",
      "\u001b[0;32m<ipython-input-3-5761d5169478>\u001b[0m in \u001b[0;36mgenerate_names\u001b[0;34m(gender, number)\u001b[0m\n\u001b[1;32m     23\u001b[0m         \u001b[0mprint\u001b[0m\u001b[0;34m(\u001b[0m\u001b[0;34m\"Error: Gender should be either 'female' or 'male'\"\u001b[0m\u001b[0;34m)\u001b[0m\u001b[0;34m\u001b[0m\u001b[0m\n\u001b[1;32m     24\u001b[0m     \u001b[0;32mfor\u001b[0m \u001b[0m_\u001b[0m \u001b[0;32min\u001b[0m \u001b[0mrange\u001b[0m\u001b[0;34m(\u001b[0m\u001b[0mnumber\u001b[0m\u001b[0;34m)\u001b[0m\u001b[0;34m:\u001b[0m\u001b[0;34m\u001b[0m\u001b[0m\n\u001b[0;32m---> 25\u001b[0;31m         \u001b[0mname\u001b[0m \u001b[0;34m=\u001b[0m \u001b[0mrandom\u001b[0m\u001b[0;34m.\u001b[0m\u001b[0mchoice\u001b[0m\u001b[0;34m(\u001b[0m\u001b[0mnames\u001b[0m\u001b[0;34m)\u001b[0m\u001b[0;34m\u001b[0m\u001b[0m\n\u001b[0m\u001b[1;32m     26\u001b[0m         \u001b[0msurname\u001b[0m \u001b[0;34m=\u001b[0m \u001b[0mrandom\u001b[0m\u001b[0;34m.\u001b[0m\u001b[0mchoice\u001b[0m\u001b[0;34m(\u001b[0m\u001b[0mus_names\u001b[0m\u001b[0;34m.\u001b[0m\u001b[0mSURNAMES\u001b[0m\u001b[0;34m)\u001b[0m\u001b[0;34m\u001b[0m\u001b[0m\n\u001b[1;32m     27\u001b[0m         \u001b[0mfullname\u001b[0m \u001b[0;34m=\u001b[0m \u001b[0mname\u001b[0m \u001b[0;34m+\u001b[0m \u001b[0;34m' '\u001b[0m \u001b[0;34m+\u001b[0m \u001b[0msurname\u001b[0m\u001b[0;34m\u001b[0m\u001b[0m\n",
      "\u001b[0;31mUnboundLocalError\u001b[0m: local variable 'names' referenced before assignment"
     ]
    }
   ],
   "source": [
    "generate_names('schnippschnapp', 8)\n",
    "generate_names(-3, 8)\n",
    "generate_names('male', 123456789123456789123456789123456789123456789123456789123456789123456789123456789)"
   ]
  },
  {
   "cell_type": "markdown",
   "metadata": {
    "slideshow": {
     "slide_type": "subslide"
    }
   },
   "source": [
    "This is what test cases with many unit tests are for.\n",
    "\n",
    "You just specify in another file, which you call `test_<program_to_test_name>.py` and in it you specifiy your unit tests."
   ]
  },
  {
   "cell_type": "code",
   "execution_count": 1,
   "metadata": {
    "slideshow": {
     "slide_type": "fragment"
    }
   },
   "outputs": [],
   "source": [
    "from generate_names import generate_names\n",
    "\n",
    "\n",
    "def test_generate_names_1():\n",
    "    names = generate_names('female', 10)\n",
    "    assert len(names) == 10\n",
    "    for name in names:\n",
    "        assert type(name) == str\n",
    "        assert ' ' in name\n",
    "        prename, surname = name.split(' ')\n",
    "        assert len(prename) >= 1\n",
    "        assert len(surname) >= 1\n",
    "        assert prename in us_names.FEMALE_NAMES\n",
    "        assert surname in us_names.SURNAMES\n",
    "\n",
    "\n",
    "def test_generate_names_2():\n",
    "    names = generate_names('male', 5)\n",
    "    assert len(names) == 5\n",
    "\n",
    "    \n",
    "def test_generate_names_3():\n",
    "    names = generate_names('schnippschnapp', 8)\n",
    "    assert len(names) == 0\n",
    "\n",
    "\n",
    "def test_generate_names_4():\n",
    "    names = generate_names(-3, 8)\n",
    "    assert len(names) == 0"
   ]
  },
  {
   "cell_type": "markdown",
   "metadata": {
    "slideshow": {
     "slide_type": "subslide"
    }
   },
   "source": [
    "### `assert`?\n",
    "\n",
    "In essence the `assert expression` statement does the following:\n",
    "\n",
    "```python\n",
    "if not expression: raise AssertionError\n",
    "```\n",
    "\n",
    "https://docs.python.org/3/reference/simple_stmts.html#the-assert-statement"
   ]
  },
  {
   "cell_type": "markdown",
   "metadata": {
    "slideshow": {
     "slide_type": "subslide"
    }
   },
   "source": [
    "Executing each unit test manually is tedious. Consequenlty, we use a testing framework `py.test`, which automates the process of running a set of unit tests.\n",
    "\n",
    "You can run your tests from the command-line by pointing `pytest` to the file containing your unit tests.\n",
    "\n",
    "~~~bash\n",
    "$ pytest test_generate_names.py\n",
    "~~~\n",
    "\n",
    "It will collect all functions that start with a `test_`, execute them sequentially, and report if the unit test fails or passes."
   ]
  },
  {
   "cell_type": "markdown",
   "metadata": {
    "slideshow": {
     "slide_type": "subslide"
    }
   },
   "source": [
    "~~~bash\n",
    "$ pytest test_generate_names.py\n",
    "======================================== test session starts ========================================\n",
    "platform darwin -- Python 3.6.4, pytest-3.3.2, py-1.5.2, pluggy-0.6.0\n",
    "rootdir: /Users/rhp/Documents/Lectures/ITU/private_intro_to_programming/session_4, inifile:\n",
    "collected 4 items\n",
    "\n",
    "test_generate_names.py ..FF                                                                   [100%]\n",
    "\n",
    "============================================= FAILURES ==============================================\n",
    "...\n",
    "~~~"
   ]
  },
  {
   "cell_type": "markdown",
   "metadata": {
    "slideshow": {
     "slide_type": "subslide"
    }
   },
   "source": [
    "## Test-driven Development\n",
    "\n",
    "In Test-driven Development (TDD) you start by writing your test before writing your actual program.\n",
    "\n",
    "The idea is, that you -or one of your friends/colleagues- specifies the input a function/method requires and the output it is supposed to create.\n",
    "\n",
    "Then you implement the functionality until all given unit tests pass. That should mean that your code does at least what it is required to do."
   ]
  },
  {
   "cell_type": "markdown",
   "metadata": {
    "slideshow": {
     "slide_type": "subslide"
    }
   },
   "source": [
    "# Unit Testing Exercise\n",
    "\n",
    "Put the following code into the file `test_download_books.py`:\n",
    "```python\n",
    "import os\n",
    "import download_books\n",
    "\n",
    "\n",
    "def test_download():\n",
    "    frankenstein_url = 'https://www.gutenberg.org/files/84/84-0.txt'\n",
    "    download_books.download(frankenstein_url)\n",
    "    assert os.path.isfile('84-0.txt')\n",
    "    \n",
    "\n",
    "def test_run():\n",
    "    frankenstein_url = 'https://www.gutenberg.org/files/84/84-0.txt'\n",
    "    alice_in_wonderland_url = 'https://www.gutenberg.org/files/11/11-0.txt'\n",
    "    jekyll_hyde_url = 'https://www.gutenberg.org/files/43/43-0.txt'\n",
    "    urls = [frankenstein_url, alice_in_wonderland_url, jekyll_hyde_url]\n",
    "\n",
    "    # Execute the actual function that we want to test\n",
    "    download_books.run(urls)\n",
    "    for url in urls:\n",
    "        file_name = os.path.basename(url)\n",
    "        assert os.path.isfile(file_name)\n",
    "```\n",
    "\n",
    "\n",
    "* Run the test with \n",
    "```bash\n",
    "$ pytest test_download_books.py\n",
    "```\n",
    "  * Describe to your neighbour what it is doing\n",
    "  * What is the issue with this unit test?"
   ]
  },
  {
   "cell_type": "markdown",
   "metadata": {
    "slideshow": {
     "slide_type": "subslide"
    }
   },
   "source": [
    "## Exercise continued.\n",
    "\n",
    "The `remove` function of the `os` module can delete files, for which pathes are passed as string argument.\n",
    "\n",
    "\n",
    "\n",
    "Extend the above unit tests in `test_download_books.py` so that downloaded files are removed again after running the corresponding unit tests."
   ]
  }
 ],
 "metadata": {
  "celltoolbar": "Slideshow",
  "kernelspec": {
   "display_name": "Python 3",
   "language": "python",
   "name": "python3"
  },
  "language_info": {
   "codemirror_mode": {
    "name": "ipython",
    "version": 3
   },
   "file_extension": ".py",
   "mimetype": "text/x-python",
   "name": "python",
   "nbconvert_exporter": "python",
   "pygments_lexer": "ipython3",
   "version": "3.6.4"
  }
 },
 "nbformat": 4,
 "nbformat_minor": 2
}
