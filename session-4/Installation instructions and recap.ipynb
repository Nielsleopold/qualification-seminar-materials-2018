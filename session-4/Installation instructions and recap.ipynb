{
 "cells": [
  {
   "cell_type": "markdown",
   "metadata": {
    "slideshow": {
     "slide_type": "slide"
    }
   },
   "source": [
    "# Recap"
   ]
  },
  {
   "cell_type": "markdown",
   "metadata": {
    "slideshow": {
     "slide_type": "fragment"
    }
   },
   "source": [
    "* Conditionals and loops\n",
    "* Lists, sets and dictionaries\n",
    "* Code restructuring\n",
    "* Functions and modules"
   ]
  },
  {
   "cell_type": "markdown",
   "metadata": {
    "slideshow": {
     "slide_type": "slide"
    }
   },
   "source": [
    "# Programming on your own machine\n",
    "\n",
    "So far you have been working remotely on Azure. The aim of this session is to install all required tools to your computer. \n",
    "\n",
    "We will install:\n",
    "\n",
    "  * The _Python_ programming language (version 3.6) via a distribution called _Anaconda_.\n",
    "  * The code editor _Visual Studio Code_.\n",
    "  * The version control system _Git_ and, in case you are on Windows, a corresponding terminal program.\n",
    "  * And some smaller additional tools."
   ]
  },
  {
   "cell_type": "markdown",
   "metadata": {
    "slideshow": {
     "slide_type": "subslide"
    }
   },
   "source": [
    "Here is what you need to do:\n",
    "\n",
    "1. Open the session repository on GitHub [https://github.com/itu-summer/session-4](github.com/itu-summer/session-4) in your browser. \n",
    "2. Notice the three notebooks prefixed with `Installs_`\n",
    "3. Follow the guide for your platform, and don't be afraid to ask questions\n",
    "\n",
    "\n",
    "![](images/working.gif)"
   ]
  }
 ],
 "metadata": {
  "celltoolbar": "Slideshow",
  "kernelspec": {
   "display_name": "Python 3",
   "language": "python",
   "name": "python3"
  },
  "language_info": {
   "codemirror_mode": {
    "name": "ipython",
    "version": 3
   },
   "file_extension": ".py",
   "mimetype": "text/x-python",
   "name": "python",
   "nbconvert_exporter": "python",
   "pygments_lexer": "ipython3",
   "version": "3.6.4"
  }
 },
 "nbformat": 4,
 "nbformat_minor": 2
}
