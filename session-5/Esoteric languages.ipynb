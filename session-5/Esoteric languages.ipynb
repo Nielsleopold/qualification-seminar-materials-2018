{
 "cells": [
  {
   "cell_type": "markdown",
   "metadata": {
    "slideshow": {
     "slide_type": "slide"
    }
   },
   "source": [
    "# The tower of Babel\n",
    "\n",
    "<div style=\"width: 50%; float:left\">\n",
    "You should know that Python is not the only programmin language on the block. You will likely work with or hear about others in your jobs. \n",
    "<br/><br/>\n",
    "One particularly important language right now is JavaScript. JavaScript is used to program almost all websites in the world.\n",
    "\n",
    "\n",
    "Many many other languages exist. And of course they have a hard time talking to each other. That would be too easy.\n",
    "</div>\n",
    "<img src=\"https://upload.wikimedia.org/wikipedia/commons/thumb/5/50/Pieter_Bruegel_the_Elder_-_The_Tower_of_Babel_%28Vienna%29_-_Google_Art_Project.jpg/1280px-Pieter_Bruegel_the_Elder_-_The_Tower_of_Babel_%28Vienna%29_-_Google_Art_Project.jpg\" style=\"width: 40%; float:right\"/>"
   ]
  },
  {
   "cell_type": "markdown",
   "metadata": {
    "slideshow": {
     "slide_type": "subslide"
    }
   },
   "source": [
    "# Code golfing \n",
    "\n",
    "Some of these languages are made for fun. As in: \"I have too much time, I need a hobby\"-fun.\n",
    "\n",
    "This is a part of the new and modern \"e-sports\" called code-golfing. It's a bit like golfing, where you do it for leasure, but just with code.\n",
    "\n",
    "See https://codegolf.stackexchange.com/"
   ]
  },
  {
   "cell_type": "markdown",
   "metadata": {
    "slideshow": {
     "slide_type": "subslide"
    }
   },
   "source": [
    "## Algol-60\n",
    "\n",
    "One of the oldest programming languages around.\n",
    "\n",
    "```algol\n",
    "begin \n",
    "      file rmt (kind = remote); \n",
    "      write(rmt, <\"Hello World!\">); \n",
    "end.\n",
    "```"
   ]
  },
  {
   "cell_type": "markdown",
   "metadata": {
    "slideshow": {
     "slide_type": "subslide"
    }
   },
   "source": [
    "# Brainfucked\n",
    "\n",
    "One of these so-called esoteric languages are called Brainfuck.\n",
    "\n",
    "This is hello world in Python:\n",
    "\n",
    "```python\n",
    "print('Hello World')\n",
    "```"
   ]
  },
  {
   "cell_type": "markdown",
   "metadata": {
    "slideshow": {
     "slide_type": "fragment"
    }
   },
   "source": [
    "And this is hello world in Brainfuck:\n",
    "\n",
    "```brainfuck\n",
    "++++++++[>++++[>++>+++>+++>+<<<<-]>+>+>->>+[<]<-]>>.>---.+++++++..+++.>>.<-.<.+++.------.--------.>>+.>++.\n",
    "```"
   ]
  },
  {
   "cell_type": "markdown",
   "metadata": {
    "slideshow": {
     "slide_type": "subslide"
    }
   },
   "source": [
    "Yes, this actually exists. Go search for 'Brainfuck' and see for yourself. \n",
    "\n",
    "https://en.wikipedia.org/wiki/Brainfuck"
   ]
  },
  {
   "cell_type": "markdown",
   "metadata": {
    "slideshow": {
     "slide_type": "subslide"
    }
   },
   "source": [
    "## FiM++\n",
    "\n",
    "Based on the My Little Pony television show. Here is how you write `Hello World`:\n",
    "\n",
    "```\n",
    "Dear Princess Celestia: Hello World!\n",
    "\n",
    "Today I learned how to say Hello World!\n",
    "I said \"Hello World!\".\n",
    "That's all about how to say Hello World.\n",
    "\n",
    "Your faithful student, Twilight Sparkle.\n",
    "```"
   ]
  },
  {
   "cell_type": "markdown",
   "metadata": {
    "slideshow": {
     "slide_type": "subslide"
    }
   },
   "source": [
    "## Lolcode\n",
    "\n",
    "Designed to speak like the lolcat meme.\n",
    "\n",
    "<img src=\"images/lolcat.jpg\" style=\"width:40%\"/>"
   ]
  },
  {
   "cell_type": "markdown",
   "metadata": {
    "slideshow": {
     "slide_type": "subslide"
    }
   },
   "source": [
    "## Lolcode\n",
    "```\n",
    "HAI\n",
    "CAN HAS STDIO?\n",
    "VISIBLE \"HAI WORLD!\"\n",
    "KTHXBYE\n",
    "```"
   ]
  },
  {
   "cell_type": "markdown",
   "metadata": {
    "slideshow": {
     "slide_type": "subslide"
    }
   },
   "source": [
    "## The serious point\n",
    "\n",
    "* Programming has not always been easy\n",
    "* Be thankful for Python\n",
    "  * It is very close to the english language"
   ]
  }
 ],
 "metadata": {
  "celltoolbar": "Slideshow",
  "kernelspec": {
   "display_name": "Python 3",
   "language": "python",
   "name": "python3"
  },
  "language_info": {
   "codemirror_mode": {
    "name": "ipython",
    "version": 3
   },
   "file_extension": ".py",
   "mimetype": "text/x-python",
   "name": "python",
   "nbconvert_exporter": "python",
   "pygments_lexer": "ipython3",
   "version": "3.6.4"
  }
 },
 "nbformat": 4,
 "nbformat_minor": 2
}
