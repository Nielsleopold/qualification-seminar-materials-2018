{
 "cells": [
  {
   "cell_type": "markdown",
   "metadata": {
    "slideshow": {
     "slide_type": "slide"
    }
   },
   "source": [
    "## Exercises on Working with Files\n",
    "\n",
    "  * Write a program `print_file_contents.py` that opens the file `script1.trtl` and prints every line that it contains to the screen.\n",
    "  * Write a new program `print_file_contents_split.py`, which:\n",
    "    - Opens the file `script1.trtl`, \n",
    "    - `split`s every line on the space, \n",
    "    - Converts the number value, i.e., the value following the space to an integer, and\n",
    "    - Prints the two values on separate lines.\n",
    "    \n",
    "    Example:\n",
    "    \n",
    "    If the file `script1.trtl` contains\n",
    "    ```\n",
    "Walk 10\n",
    "Turn 20\n",
    "Walk 30\n",
    "Turn 40\n",
    "Walk 50\n",
    "Turn 60\n",
    "Walk 70\n",
    "```\n",
    "    The your program shall print:\n",
    "    ```\n",
    "Walk\n",
    "10\n",
    "Turn\n",
    "20\n",
    "Walk\n",
    "30\n",
    "Turn\n",
    "40\n",
    "Walk\n",
    "50\n",
    "Turn\n",
    "60\n",
    "Walk\n",
    "70\n",
    "```    \n",
    "  3. Extend your first program `print_file_contents.py` so that it reads a file given to it via a command line argument. That is, if it is called via:\n",
    "  \n",
    "  ```python print_file_contents.py turtle_program.trtl``` \n",
    "  \n",
    "  it shall print:\n",
    "```\n",
    "Walk 10\n",
    "Turn 20\n",
    "Walk 30\n",
    "Turn 40\n",
    "Walk 50\n",
    "Turn 60\n",
    "Walk 70\n",
    "```\n",
    "  \n",
    "  "
   ]
  },
  {
   "cell_type": "markdown",
   "metadata": {
    "slideshow": {
     "slide_type": "subslide"
    }
   },
   "source": [
    "## Exercises on Object-oriented Programming\n",
    "\n",
    "  * Run the program `turtle_race.py` with `python turtle_race.py` and observe what it is doing.\n",
    "  * Understand what the program `turtle_race.py` is doing and how it works.\n",
    "    - Open `turtle_race.py` in the debugger of Visual Studio Code\n",
    "    - Set a breakpoint on line `33`\n",
    "    - Run the debugger and step through the execution of each line in the program.\n",
    "    - Explain to your fellow student what is going on. In particular:\n",
    "      - What happens on lines `33`, `34`, and `35`?\n",
    "      - What means `Turtle()` on line 33?\n",
    "      - What happens on lines `13` and `14`?\n",
    "      - What are `right` and `forward` on lines `13` and `14`? \n",
    "        - Are `right` and `forward` functions or methods? \n",
    "        - _Hint:_ If in doubt, set a breakpoint on line 13 and step into the execution of `right`\n",
    "      - What does the `enumerate` function on line 7 do again?\n",
    "  * Have a look on https://michael0x2a.com/blog/turtle-examples to see some examples of how to draw turtle graphics with Python."
   ]
  },
  {
   "cell_type": "markdown",
   "metadata": {},
   "source": []
  },
  {
   "cell_type": "markdown",
   "metadata": {},
   "source": [
    "Complete the code in the Python module `text_container.py`, see `homework/text_container.py`. Implement a class `TextContainer` in that module. The class shall implement methods for computing statistics on texts. \n",
    "  * Implement a method `count_words`, which counts the amount of words used in a `TextContainer` object, i.e., a text.\n",
    "  * Implement a method `count_chars`, which counts the amount of characters in a `TextContainer` object.\n",
    "  * Implement a method `count_letters`, which counts the amount of letters in a `TextContainer` object.\n",
    "    - _Hint:_  letters are all letters, from `string.ascii_letters`\n",
    "    ```python\n",
    "    import string\n",
    "    string.ascii_letters  # returns 'abcdefghijklmnopqrstuvwxyzABCDEFGHIJKLMNOPQRSTUVWXYZ'\n",
    "    ```\n",
    "  * Implement a method `remove_punctuation`, which removes all punctuation characters from a `TextContainer` object.\n",
    "    - _Hint:_  punctuation characters are all those from `string.punctuation`\n",
    "    ```python\n",
    "    import string\n",
    "    string.punctuation  # returns '!\"#$%&\\'()*+,-./:;<=>?@[\\\\]^_`{|}~'\n",
    "    ```"
   ]
  },
  {
   "cell_type": "markdown",
   "metadata": {},
   "source": [
    "After you are done implementing the methods above, you should see the following output when running the program.\n",
    "\n",
    "```bash\n",
    "$ python homework/text_container.py\n",
    "130\n",
    "790\n",
    "634\n",
    "There was a slump in the shipping market and men who were otherwise\n",
    "decent citizens wailed for one hour of glorious war when Kenyon Line\n",
    "Deferred had stood at 88 12 and even so poor an organization as\n",
    "Siddons Steam Packets Line had been marketable at 3 38\n",
    "\n",
    "Two bareheaded men came down the busy street their hands thrust into\n",
    "their trousers pockets their sleek welloiled heads bent in dejection\n",
    "\n",
    "No word they spoke keeping step with the stern precision of soldiers\n",
    "Together they wheeled through the open doors of the Commercial Trust\n",
    "Building together they leftturned into the elevator and\n",
    "simultaneously raised their heads to examine its roof as though in its\n",
    "panelled ceiling was concealed some Delphic oracle who would answer the\n",
    "riddle which circumstances had set them\n",
    "```"
   ]
  },
  {
   "cell_type": "markdown",
   "metadata": {
    "slideshow": {
     "slide_type": "subslide"
    }
   },
   "source": [
    "You may want to make use of the test case `test_text_container.py` in the homework directory.\n",
    "\n",
    "After implemting all text analysis methods correctly, all unit tests should pass and you should be able to see something similar to the following.\n",
    "  - _Hint:_ While developing, try to make a single test pass at a time. In the beginning they will all fail. Start for example implementing the method `count_chars` and make the corresponding test pass.\n",
    "\n",
    "```bash\n",
    "$ pytest homework/test_text_container.py\n",
    "======== test session starts ========\n",
    "platform darwin -- Python 3.6.4, pytest-3.3.2, py-1.5.2, pluggy-0.6.0\n",
    "rootdir: ...session_5, inifile:\n",
    "collected 4 items\n",
    "\n",
    "homework/test_text_container.py ....                           [100%]\n",
    "\n",
    "======== 4 passed in 0.01 seconds ========\n",
    "```"
   ]
  },
  {
   "cell_type": "code",
   "execution_count": null,
   "metadata": {},
   "outputs": [],
   "source": []
  },
  {
   "cell_type": "markdown",
   "metadata": {},
   "source": [
    "## Ice Cream Challenge\n",
    "\n",
    "![](https://vignette.wikia.nocookie.net/spongebob/images/8/80/Sb2_ice_cream_kisses.gif/revision/latest?cb=20160518181528)\n",
    "\n",
    "Popular belief suggests that Sherlock Holmes is a drug addict, see for example https://en.wikipedia.org/wiki/Sherlock_Holmes#Drug_use.\n",
    "\n",
    "In this directory, you find a set of Sherlock Holmes books as text files.\n",
    "\n",
    "Write a program that generates an overview over how often certain drugs is mentioned per book.\n",
    "\n",
    "For example, the [Wikipedia entry on Sherlock Holmes](https://en.wikipedia.org/wiki/Sherlock_Holmes#Drug_use) says that he consumes amongst others _cocaine_ and _morphine_. The book _\"The Adventures Of Sherlock Holmes\"_ mentions for example _cocaine_ at least three times.\n",
    "\n",
    "That is, write a program `drug_use.py` that counts per book how often a certain drug is mentioned and print an overview of drug type and amount of mentions. The format of the generated report does not matter as long as it is somewhat understandable.\n",
    "\n",
    "\n",
    "\n",
    "The person that hands-in a program that prints the most complete and most accurate report of drugs mentioned per book will get two balls of ice cream from Ismejeriet, the ice cream shop opposite ITU."
   ]
  }
 ],
 "metadata": {
  "kernelspec": {
   "display_name": "Python 3",
   "language": "python",
   "name": "python3"
  },
  "language_info": {
   "codemirror_mode": {
    "name": "ipython",
    "version": 3
   },
   "file_extension": ".py",
   "mimetype": "text/x-python",
   "name": "python",
   "nbconvert_exporter": "python",
   "pygments_lexer": "ipython3",
   "version": "3.6.4"
  }
 },
 "nbformat": 4,
 "nbformat_minor": 2
}
