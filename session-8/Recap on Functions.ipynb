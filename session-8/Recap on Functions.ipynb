{
 "cells": [
  {
   "cell_type": "markdown",
   "metadata": {
    "slideshow": {
     "slide_type": "slide"
    }
   },
   "source": [
    "# Recap\n",
    "\n",
    "  * What did we do the last time?"
   ]
  },
  {
   "cell_type": "markdown",
   "metadata": {
    "slideshow": {
     "slide_type": "fragment"
    }
   },
   "source": [
    "  * Assignment 1 from last time"
   ]
  },
  {
   "cell_type": "code",
   "execution_count": 3,
   "metadata": {},
   "outputs": [
    {
     "data": {
      "text/plain": [
       "True"
      ]
     },
     "execution_count": 3,
     "metadata": {},
     "output_type": "execute_result"
    }
   ],
   "source": [
    "l = [1, 2, 'b', 9]\n",
    "x = 9\n",
    "idx = 3\n",
    "l[idx] == x"
   ]
  },
  {
   "cell_type": "code",
   "execution_count": 27,
   "metadata": {},
   "outputs": [
    {
     "name": "stdout",
     "output_type": "stream",
     "text": [
      "-1\n"
     ]
    }
   ],
   "source": [
    "def where_is(l, x):\n",
    "    \"\"\"This algorithm finds x in l.\n",
    "    \"\"\"\n",
    "    for idx, value in enumerate(l):\n",
    "        if value == x:\n",
    "            return idx\n",
    "    return -1\n",
    "\n",
    "        \n",
    "result = where_is([1, 2, 4, 5, 4], 2)\n",
    "print(result)"
   ]
  },
  {
   "cell_type": "code",
   "execution_count": 18,
   "metadata": {},
   "outputs": [],
   "source": [
    "enumerate?"
   ]
  },
  {
   "cell_type": "markdown",
   "metadata": {
    "slideshow": {
     "slide_type": "subslide"
    }
   },
   "source": [
    "## 1.1: Searching for an index\n",
    "\n",
    "In this part of the assignment, we discuss algorithms that find a given element in a list. More precisely:\n",
    "\n",
    "**Input**: A list `l`, an element `x` to search for.\n",
    "\n",
    "**Output**: An index `idx` such that `l[idx] == x`, or `-1` if `x` is not present in `l`. If `x` occurs more than once, the first occurrence is reported.\n",
    "\n",
    "The following has to work: \n",
    "\n",
    "```python \n",
    "> where_is([1, 3, 5], 3)\n",
    "1\n",
    "> where_is([1, 2, 4, 5, 4], 4)\n",
    "2\n",
    "> where_is([1, 2, 3], 0)\n",
    "-1\n",
    "```"
   ]
  },
  {
   "cell_type": "markdown",
   "metadata": {
    "slideshow": {
     "slide_type": "subslide"
    }
   },
   "source": [
    "\n",
    "* Hint: **Always** do things in **small** steps:\n",
    "  1. Break down the problem: What is the first thing you need?\n",
    "     * This sub-problem should **not be more than 1-2 lines of code!**\n",
    "  2. Solve that first problem **until you have something that works\n",
    "  3. Continue with the next sub-problem\n",
    "* Hint: Start by writing a function that takes the requested input and simply prints back `-1`. \n",
    "  * This is two lines of code"
   ]
  },
  {
   "cell_type": "markdown",
   "metadata": {
    "slideshow": {
     "slide_type": "subslide"
    }
   },
   "source": [
    "## 2.1: Best- and worst-case runtimes (without running the code)\n",
    "\n",
    "Copy and run the following code in a notebook (`$ jupyter notebook`) or in an interactive Python session (`$ ipython`):\n",
    "\n",
    "```python\n",
    "def find_element_in_a_list(data_list, element):\n",
    "    for idx, el in enumerate(data_list):\n",
    "        if el == element:\n",
    "            return idx, el\n",
    "\n",
    "\n",
    "data_list = range(10000)\n",
    "%timeit find_element_in_a_list(data_list, 2)\n",
    "```\n",
    "\n",
    "1. What is the best case for `find_element_in_a_list` when the data_list is [0, 1, ..., 9999]?\n",
    "2. What is the worst case for `find_element_in_a_list` when the data_list is [0, 1, ..., 9999]?\n",
    "3. Let's say `find_element_in_a_list` is run with a list of size `n`. The worst-case runtime `T(n)` is one of the following choices a-d, write down which one:\n",
    "\n",
    "        a. constant\n",
    "        b. linear\n",
    "        c. quadratic\n",
    "        d. exponential"
   ]
  },
  {
   "cell_type": "markdown",
   "metadata": {
    "slideshow": {
     "slide_type": "subslide"
    }
   },
   "source": [
    "---------------------------------"
   ]
  },
  {
   "cell_type": "markdown",
   "metadata": {
    "slideshow": {
     "slide_type": "slide"
    }
   },
   "source": [
    "We want to write a program, which can create emails as the following, where the name is a randomly chosen female name and the thing to thank for is either a _letter_, _postcard_, _present_, or _invitation_.\n",
    "\n",
    "```\n",
    "Dear Ms. Rojas Shauna,\n",
    "\n",
    "Thanks for your present.\n",
    "\n",
    "Sorry it's taken me so long to write. I hope you're well.\n",
    "Good to see you again last week. Look forward to seeing you soon!\n",
    "\n",
    "Best regards,\n",
    "Your Computer\n",
    "```"
   ]
  },
  {
   "cell_type": "code",
   "execution_count": 2,
   "metadata": {},
   "outputs": [
    {
     "name": "stdout",
     "output_type": "stream",
     "text": [
      "Dear Ms. Shizuko Pestka,\n",
      "\n",
      "Thanks for your present.\n",
      "\n",
      "Sorry it's taken me so long to write. I hope you're well.\n",
      "Good to see you again last week. Look forward to seeing you soon!\n",
      "\n",
      "\n",
      "Best regards,\n",
      "Your Computer\n",
      "\n"
     ]
    }
   ],
   "source": [
    "import random\n",
    "from us_names import SURNAMES, FEMALE_NAMES, MALE_NAMES\n",
    "\n",
    "\n",
    "female_name = random.choice(FEMALE_NAMES) + ' ' + random.choice(SURNAMES)\n",
    "complete_name = 'Ms. ' + female_name\n",
    "msg_sent = random.choice(['letter', 'postcard', 'present', 'invitation'])\n",
    "\n",
    "email_msg = f'''Dear {complete_name},\n",
    "\n",
    "Thanks for your {msg_sent}.\n",
    "\n",
    "Sorry it's taken me so long to write. I hope you're well.\n",
    "Good to see you again last week. Look forward to seeing you soon!\n",
    "\n",
    "\n",
    "Best regards,\n",
    "Your Computer\n",
    "'''\n",
    "\n",
    "print(email_msg)"
   ]
  },
  {
   "cell_type": "markdown",
   "metadata": {},
   "source": [
    "Alternative implementation for random choice?"
   ]
  },
  {
   "cell_type": "markdown",
   "metadata": {},
   "source": [
    "--------------------------------------------------"
   ]
  },
  {
   "cell_type": "markdown",
   "metadata": {},
   "source": []
  },
  {
   "cell_type": "markdown",
   "metadata": {},
   "source": [
    "Now, let's modify the program so that we can also create an email to a man if we wanted. Let's say we get the value for if it is a male or a female name from a configuration file named `gender.cfg`, which is stored next to our program."
   ]
  },
  {
   "cell_type": "code",
   "execution_count": null,
   "metadata": {},
   "outputs": [],
   "source": [
    "import random\n",
    "from us_names import SURNAMES, FEMALE_NAMES, MALE_NAMES\n",
    "\n",
    "\n",
    "with open('gender.cfg') as fp:\n",
    "    cfg_contents = fp.readlines()\n",
    "\n",
    "# get the first line\n",
    "# Let them run into not stripped error\n",
    "male_or_female = cfg_contents[0].strip()\n",
    "\n",
    "# Focus on that!\n",
    "if male_or_female == 'female':\n",
    "    female_name = random.choice(SURNAMES) + ' ' + random.choice(FEMALE_NAMES)\n",
    "    complete_name = 'Ms. ' + female_name\n",
    "elif male_or_female == 'male':\n",
    "    male_name = random.choice(SURNAMES) + ' ' + random.choice(MALE_NAMES)\n",
    "    complete_name = 'Mr. ' + male_name\n",
    "else:\n",
    "    complete_name = 'Cookie Monster'\n",
    "\n",
    "msg_sent = random.choice(['letter', 'postcard', 'present', 'invitation'])\n",
    "\n",
    "email_msg = f'''Dear {complete_name},\n",
    "\n",
    "Thanks for your {msg_sent}.\n",
    "\n",
    "Sorry it's taken me so long to write. I hope you're well.\n",
    "Good to see you again last week. Look forward to seeing you soon!\n",
    "\n",
    "\n",
    "Best regards,\n",
    "Your Computer\n",
    "'''\n",
    "\n",
    "print(email_msg)"
   ]
  },
  {
   "cell_type": "markdown",
   "metadata": {},
   "source": [
    "  * Why is `cfg_contents` still visible after the `with` block?\n",
    "  * How else could on get the file contents?\n",
    "  * Why do I need the `strip` on `cfg_contents[0]`?"
   ]
  },
  {
   "cell_type": "code",
   "execution_count": null,
   "metadata": {},
   "outputs": [],
   "source": []
  }
 ],
 "metadata": {
  "celltoolbar": "Slideshow",
  "kernelspec": {
   "display_name": "Python 3",
   "language": "python",
   "name": "python3"
  }
 },
 "nbformat": 4,
 "nbformat_minor": 2
}
